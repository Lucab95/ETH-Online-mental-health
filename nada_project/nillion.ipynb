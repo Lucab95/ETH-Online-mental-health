{
 "cells": [
  {
   "cell_type": "code",
   "execution_count": 57,
   "metadata": {},
   "outputs": [
    {
     "name": "stdout",
     "output_type": "stream",
     "text": [
      "Requirement already satisfied: nada-dsl in /home/brglt/Desktop/nillion/ETH-Online-mental-health/venv/lib/python3.12/site-packages (0.4.0)\n",
      "Requirement already satisfied: asttokens~=2.4 in /home/brglt/Desktop/nillion/ETH-Online-mental-health/venv/lib/python3.12/site-packages (from nada-dsl) (2.4.1)\n",
      "Requirement already satisfied: richreports~=0.2 in /home/brglt/Desktop/nillion/ETH-Online-mental-health/venv/lib/python3.12/site-packages (from nada-dsl) (0.2.0)\n",
      "Requirement already satisfied: parsial~=0.1 in /home/brglt/Desktop/nillion/ETH-Online-mental-health/venv/lib/python3.12/site-packages (from nada-dsl) (0.1.0)\n",
      "Requirement already satisfied: sortedcontainers~=2.4 in /home/brglt/Desktop/nillion/ETH-Online-mental-health/venv/lib/python3.12/site-packages (from nada-dsl) (2.4.0)\n",
      "Requirement already satisfied: six>=1.12.0 in /home/brglt/Desktop/nillion/ETH-Online-mental-health/venv/lib/python3.12/site-packages (from asttokens~=2.4->nada-dsl) (1.16.0)\n",
      "Requirement already satisfied: py_nillion_client in /home/brglt/Desktop/nillion/ETH-Online-mental-health/venv/lib/python3.12/site-packages (0.6.0)\n",
      "Requirement already satisfied: protobuf<5.0.dev0,>=4.21.6 in /home/brglt/Desktop/nillion/ETH-Online-mental-health/venv/lib/python3.12/site-packages (from py_nillion_client) (4.25.4)\n",
      "Requirement already satisfied: nillion-python-helpers in /home/brglt/Desktop/nillion/ETH-Online-mental-health/venv/lib/python3.12/site-packages (0.2.3)\n",
      "Requirement already satisfied: cosmpy<0.10.0,>=0.9.2 in /home/brglt/Desktop/nillion/ETH-Online-mental-health/venv/lib/python3.12/site-packages (from nillion-python-helpers) (0.9.2)\n",
      "Requirement already satisfied: pytest-asyncio<0.24.0,>=0.23.7 in /home/brglt/Desktop/nillion/ETH-Online-mental-health/venv/lib/python3.12/site-packages (from nillion-python-helpers) (0.23.8)\n",
      "Requirement already satisfied: python-dotenv==1.0.0 in /home/brglt/Desktop/nillion/ETH-Online-mental-health/venv/lib/python3.12/site-packages (from nillion-python-helpers) (1.0.0)\n",
      "Requirement already satisfied: bech32 in /home/brglt/Desktop/nillion/ETH-Online-mental-health/venv/lib/python3.12/site-packages (from cosmpy<0.10.0,>=0.9.2->nillion-python-helpers) (1.2.0)\n",
      "Requirement already satisfied: ecdsa in /home/brglt/Desktop/nillion/ETH-Online-mental-health/venv/lib/python3.12/site-packages (from cosmpy<0.10.0,>=0.9.2->nillion-python-helpers) (0.19.0)\n",
      "Requirement already satisfied: googleapis-common-protos in /home/brglt/Desktop/nillion/ETH-Online-mental-health/venv/lib/python3.12/site-packages (from cosmpy<0.10.0,>=0.9.2->nillion-python-helpers) (1.65.0)\n",
      "Requirement already satisfied: grpcio in /home/brglt/Desktop/nillion/ETH-Online-mental-health/venv/lib/python3.12/site-packages (from cosmpy<0.10.0,>=0.9.2->nillion-python-helpers) (1.66.1)\n",
      "Requirement already satisfied: jsonschema<5,>=3.2.0 in /home/brglt/Desktop/nillion/ETH-Online-mental-health/venv/lib/python3.12/site-packages (from cosmpy<0.10.0,>=0.9.2->nillion-python-helpers) (4.23.0)\n",
      "Requirement already satisfied: protobuf<5.0dev,>=4.21.6 in /home/brglt/Desktop/nillion/ETH-Online-mental-health/venv/lib/python3.12/site-packages (from cosmpy<0.10.0,>=0.9.2->nillion-python-helpers) (4.25.4)\n",
      "Requirement already satisfied: pycryptodome<4.0.0,>=3.18.0 in /home/brglt/Desktop/nillion/ETH-Online-mental-health/venv/lib/python3.12/site-packages (from cosmpy<0.10.0,>=0.9.2->nillion-python-helpers) (3.20.0)\n",
      "Requirement already satisfied: python-dateutil in /home/brglt/Desktop/nillion/ETH-Online-mental-health/venv/lib/python3.12/site-packages (from cosmpy<0.10.0,>=0.9.2->nillion-python-helpers) (2.9.0.post0)\n",
      "Requirement already satisfied: requests in /home/brglt/Desktop/nillion/ETH-Online-mental-health/venv/lib/python3.12/site-packages (from cosmpy<0.10.0,>=0.9.2->nillion-python-helpers) (2.32.3)\n",
      "Requirement already satisfied: pytest<9,>=7.0.0 in /home/brglt/Desktop/nillion/ETH-Online-mental-health/venv/lib/python3.12/site-packages (from pytest-asyncio<0.24.0,>=0.23.7->nillion-python-helpers) (8.3.2)\n",
      "Requirement already satisfied: attrs>=22.2.0 in /home/brglt/Desktop/nillion/ETH-Online-mental-health/venv/lib/python3.12/site-packages (from jsonschema<5,>=3.2.0->cosmpy<0.10.0,>=0.9.2->nillion-python-helpers) (24.2.0)\n",
      "Requirement already satisfied: jsonschema-specifications>=2023.03.6 in /home/brglt/Desktop/nillion/ETH-Online-mental-health/venv/lib/python3.12/site-packages (from jsonschema<5,>=3.2.0->cosmpy<0.10.0,>=0.9.2->nillion-python-helpers) (2023.12.1)\n",
      "Requirement already satisfied: referencing>=0.28.4 in /home/brglt/Desktop/nillion/ETH-Online-mental-health/venv/lib/python3.12/site-packages (from jsonschema<5,>=3.2.0->cosmpy<0.10.0,>=0.9.2->nillion-python-helpers) (0.35.1)\n",
      "Requirement already satisfied: rpds-py>=0.7.1 in /home/brglt/Desktop/nillion/ETH-Online-mental-health/venv/lib/python3.12/site-packages (from jsonschema<5,>=3.2.0->cosmpy<0.10.0,>=0.9.2->nillion-python-helpers) (0.20.0)\n",
      "Requirement already satisfied: iniconfig in /home/brglt/Desktop/nillion/ETH-Online-mental-health/venv/lib/python3.12/site-packages (from pytest<9,>=7.0.0->pytest-asyncio<0.24.0,>=0.23.7->nillion-python-helpers) (2.0.0)\n",
      "Requirement already satisfied: packaging in /home/brglt/Desktop/nillion/ETH-Online-mental-health/venv/lib/python3.12/site-packages (from pytest<9,>=7.0.0->pytest-asyncio<0.24.0,>=0.23.7->nillion-python-helpers) (24.1)\n",
      "Requirement already satisfied: pluggy<2,>=1.5 in /home/brglt/Desktop/nillion/ETH-Online-mental-health/venv/lib/python3.12/site-packages (from pytest<9,>=7.0.0->pytest-asyncio<0.24.0,>=0.23.7->nillion-python-helpers) (1.5.0)\n",
      "Requirement already satisfied: six>=1.9.0 in /home/brglt/Desktop/nillion/ETH-Online-mental-health/venv/lib/python3.12/site-packages (from ecdsa->cosmpy<0.10.0,>=0.9.2->nillion-python-helpers) (1.16.0)\n",
      "Requirement already satisfied: charset-normalizer<4,>=2 in /home/brglt/Desktop/nillion/ETH-Online-mental-health/venv/lib/python3.12/site-packages (from requests->cosmpy<0.10.0,>=0.9.2->nillion-python-helpers) (3.3.2)\n",
      "Requirement already satisfied: idna<4,>=2.5 in /home/brglt/Desktop/nillion/ETH-Online-mental-health/venv/lib/python3.12/site-packages (from requests->cosmpy<0.10.0,>=0.9.2->nillion-python-helpers) (3.8)\n",
      "Requirement already satisfied: urllib3<3,>=1.21.1 in /home/brglt/Desktop/nillion/ETH-Online-mental-health/venv/lib/python3.12/site-packages (from requests->cosmpy<0.10.0,>=0.9.2->nillion-python-helpers) (2.2.2)\n",
      "Requirement already satisfied: certifi>=2017.4.17 in /home/brglt/Desktop/nillion/ETH-Online-mental-health/venv/lib/python3.12/site-packages (from requests->cosmpy<0.10.0,>=0.9.2->nillion-python-helpers) (2024.8.30)\n",
      "Requirement already satisfied: cosmpy==0.9.2 in /home/brglt/Desktop/nillion/ETH-Online-mental-health/venv/lib/python3.12/site-packages (0.9.2)\n",
      "Requirement already satisfied: bech32 in /home/brglt/Desktop/nillion/ETH-Online-mental-health/venv/lib/python3.12/site-packages (from cosmpy==0.9.2) (1.2.0)\n",
      "Requirement already satisfied: ecdsa in /home/brglt/Desktop/nillion/ETH-Online-mental-health/venv/lib/python3.12/site-packages (from cosmpy==0.9.2) (0.19.0)\n",
      "Requirement already satisfied: googleapis-common-protos in /home/brglt/Desktop/nillion/ETH-Online-mental-health/venv/lib/python3.12/site-packages (from cosmpy==0.9.2) (1.65.0)\n",
      "Requirement already satisfied: grpcio in /home/brglt/Desktop/nillion/ETH-Online-mental-health/venv/lib/python3.12/site-packages (from cosmpy==0.9.2) (1.66.1)\n",
      "Requirement already satisfied: jsonschema<5,>=3.2.0 in /home/brglt/Desktop/nillion/ETH-Online-mental-health/venv/lib/python3.12/site-packages (from cosmpy==0.9.2) (4.23.0)\n",
      "Requirement already satisfied: protobuf<5.0dev,>=4.21.6 in /home/brglt/Desktop/nillion/ETH-Online-mental-health/venv/lib/python3.12/site-packages (from cosmpy==0.9.2) (4.25.4)\n",
      "Requirement already satisfied: pycryptodome<4.0.0,>=3.18.0 in /home/brglt/Desktop/nillion/ETH-Online-mental-health/venv/lib/python3.12/site-packages (from cosmpy==0.9.2) (3.20.0)\n",
      "Requirement already satisfied: python-dateutil in /home/brglt/Desktop/nillion/ETH-Online-mental-health/venv/lib/python3.12/site-packages (from cosmpy==0.9.2) (2.9.0.post0)\n",
      "Requirement already satisfied: requests in /home/brglt/Desktop/nillion/ETH-Online-mental-health/venv/lib/python3.12/site-packages (from cosmpy==0.9.2) (2.32.3)\n",
      "Requirement already satisfied: attrs>=22.2.0 in /home/brglt/Desktop/nillion/ETH-Online-mental-health/venv/lib/python3.12/site-packages (from jsonschema<5,>=3.2.0->cosmpy==0.9.2) (24.2.0)\n",
      "Requirement already satisfied: jsonschema-specifications>=2023.03.6 in /home/brglt/Desktop/nillion/ETH-Online-mental-health/venv/lib/python3.12/site-packages (from jsonschema<5,>=3.2.0->cosmpy==0.9.2) (2023.12.1)\n",
      "Requirement already satisfied: referencing>=0.28.4 in /home/brglt/Desktop/nillion/ETH-Online-mental-health/venv/lib/python3.12/site-packages (from jsonschema<5,>=3.2.0->cosmpy==0.9.2) (0.35.1)\n",
      "Requirement already satisfied: rpds-py>=0.7.1 in /home/brglt/Desktop/nillion/ETH-Online-mental-health/venv/lib/python3.12/site-packages (from jsonschema<5,>=3.2.0->cosmpy==0.9.2) (0.20.0)\n",
      "Requirement already satisfied: six>=1.9.0 in /home/brglt/Desktop/nillion/ETH-Online-mental-health/venv/lib/python3.12/site-packages (from ecdsa->cosmpy==0.9.2) (1.16.0)\n",
      "Requirement already satisfied: charset-normalizer<4,>=2 in /home/brglt/Desktop/nillion/ETH-Online-mental-health/venv/lib/python3.12/site-packages (from requests->cosmpy==0.9.2) (3.3.2)\n",
      "Requirement already satisfied: idna<4,>=2.5 in /home/brglt/Desktop/nillion/ETH-Online-mental-health/venv/lib/python3.12/site-packages (from requests->cosmpy==0.9.2) (3.8)\n",
      "Requirement already satisfied: urllib3<3,>=1.21.1 in /home/brglt/Desktop/nillion/ETH-Online-mental-health/venv/lib/python3.12/site-packages (from requests->cosmpy==0.9.2) (2.2.2)\n",
      "Requirement already satisfied: certifi>=2017.4.17 in /home/brglt/Desktop/nillion/ETH-Online-mental-health/venv/lib/python3.12/site-packages (from requests->cosmpy==0.9.2) (2024.8.30)\n",
      "Requirement already satisfied: python-dotenv in /home/brglt/Desktop/nillion/ETH-Online-mental-health/venv/lib/python3.12/site-packages (1.0.0)\n",
      "  % Total    % Received % Xferd  Average Speed   Time    Time     Time  Current\n",
      "                                 Dload  Upload   Total   Spent    Left  Speed\n",
      "100  7810  100  7810    0     0  32312      0 --:--:-- --:--:-- --:--:-- 32272\n",
      "\n",
      "nilup has been installed into /home/brglt/.nilup/bin.\n",
      "\n",
      "$PATH is already up-to-date. You may begin using nilup now!\n",
      "\n",
      "/bin/bash: line 1: /root/.nilup/bin/nilup: Permission denied\n",
      "SDK version latest already installed\n",
      "Reinstalling SDK version latest\n",
      "Installing SDK bins version latest\n",
      "Downloading latest/nillion-sdk-bins-x86_64-unknown-linux-musl.tar.gz\n",
      "SDK version latest installed\n",
      "SDK version latest set as default\n",
      "SDK version latest already installed\n",
      "Reinstalling SDK version latest\n",
      "Installing SDK bins version latest\n",
      "Downloading latest/nillion-sdk-bins-x86_64-unknown-linux-musl.tar.gz\n",
      "Installing nada_dsl version latest\n",
      "Downloading latest/nada_dsl-0.6.0-py3-none-any.whl to /home/brglt/.nilup/sdks/latest/nada_dsl-0.6.0-py3-none-any.whl\n",
      "Using pip to install /home/brglt/.nilup/sdks/latest/nada_dsl-0.6.0-py3-none-any.whl\n",
      "nada_dsl version latest installed\n",
      "Installing python client version latest\n",
      "Downloading latest/py_nillion_client-0.6.0-cp37-abi3-manylinux_2_17_x86_64.manylinux2014_x86_64.whl to /home/brglt/.nilup/sdks/latest/py_nillion_client-0.6.0-cp37-abi3-manylinux_2_17_x86_64.manylinux2014_x86_64.whl\n",
      "Using pip to install /home/brglt/.nilup/sdks/latest/py_nillion_client-0.6.0-cp37-abi3-manylinux_2_17_x86_64.manylinux2014_x86_64.whl\n",
      "python client version latest installed\n",
      "SDK version latest installed\n",
      "SDK version latest set as default\n",
      "Requirement already satisfied: torch in /home/brglt/Desktop/nillion/ETH-Online-mental-health/venv/lib/python3.12/site-packages (2.3.1)\n",
      "Requirement already satisfied: filelock in /home/brglt/Desktop/nillion/ETH-Online-mental-health/venv/lib/python3.12/site-packages (from torch) (3.15.4)\n",
      "Requirement already satisfied: typing-extensions>=4.8.0 in /home/brglt/Desktop/nillion/ETH-Online-mental-health/venv/lib/python3.12/site-packages (from torch) (4.12.2)\n",
      "Requirement already satisfied: sympy in /home/brglt/Desktop/nillion/ETH-Online-mental-health/venv/lib/python3.12/site-packages (from torch) (1.13.2)\n",
      "Requirement already satisfied: networkx in /home/brglt/Desktop/nillion/ETH-Online-mental-health/venv/lib/python3.12/site-packages (from torch) (3.3)\n",
      "Requirement already satisfied: jinja2 in /home/brglt/Desktop/nillion/ETH-Online-mental-health/venv/lib/python3.12/site-packages (from torch) (3.1.4)\n",
      "Requirement already satisfied: fsspec in /home/brglt/Desktop/nillion/ETH-Online-mental-health/venv/lib/python3.12/site-packages (from torch) (2024.6.1)\n",
      "Requirement already satisfied: nvidia-cuda-nvrtc-cu12==12.1.105 in /home/brglt/Desktop/nillion/ETH-Online-mental-health/venv/lib/python3.12/site-packages (from torch) (12.1.105)\n",
      "Requirement already satisfied: nvidia-cuda-runtime-cu12==12.1.105 in /home/brglt/Desktop/nillion/ETH-Online-mental-health/venv/lib/python3.12/site-packages (from torch) (12.1.105)\n",
      "Requirement already satisfied: nvidia-cuda-cupti-cu12==12.1.105 in /home/brglt/Desktop/nillion/ETH-Online-mental-health/venv/lib/python3.12/site-packages (from torch) (12.1.105)\n",
      "Requirement already satisfied: nvidia-cudnn-cu12==8.9.2.26 in /home/brglt/Desktop/nillion/ETH-Online-mental-health/venv/lib/python3.12/site-packages (from torch) (8.9.2.26)\n",
      "Requirement already satisfied: nvidia-cublas-cu12==12.1.3.1 in /home/brglt/Desktop/nillion/ETH-Online-mental-health/venv/lib/python3.12/site-packages (from torch) (12.1.3.1)\n",
      "Requirement already satisfied: nvidia-cufft-cu12==11.0.2.54 in /home/brglt/Desktop/nillion/ETH-Online-mental-health/venv/lib/python3.12/site-packages (from torch) (11.0.2.54)\n",
      "Requirement already satisfied: nvidia-curand-cu12==10.3.2.106 in /home/brglt/Desktop/nillion/ETH-Online-mental-health/venv/lib/python3.12/site-packages (from torch) (10.3.2.106)\n",
      "Requirement already satisfied: nvidia-cusolver-cu12==11.4.5.107 in /home/brglt/Desktop/nillion/ETH-Online-mental-health/venv/lib/python3.12/site-packages (from torch) (11.4.5.107)\n",
      "Requirement already satisfied: nvidia-cusparse-cu12==12.1.0.106 in /home/brglt/Desktop/nillion/ETH-Online-mental-health/venv/lib/python3.12/site-packages (from torch) (12.1.0.106)\n",
      "Requirement already satisfied: nvidia-nccl-cu12==2.20.5 in /home/brglt/Desktop/nillion/ETH-Online-mental-health/venv/lib/python3.12/site-packages (from torch) (2.20.5)\n",
      "Requirement already satisfied: nvidia-nvtx-cu12==12.1.105 in /home/brglt/Desktop/nillion/ETH-Online-mental-health/venv/lib/python3.12/site-packages (from torch) (12.1.105)\n",
      "Requirement already satisfied: nvidia-nvjitlink-cu12 in /home/brglt/Desktop/nillion/ETH-Online-mental-health/venv/lib/python3.12/site-packages (from nvidia-cusolver-cu12==11.4.5.107->torch) (12.6.68)\n",
      "Requirement already satisfied: MarkupSafe>=2.0 in /home/brglt/Desktop/nillion/ETH-Online-mental-health/venv/lib/python3.12/site-packages (from jinja2->torch) (2.1.5)\n",
      "Requirement already satisfied: mpmath<1.4,>=1.1.0 in /home/brglt/Desktop/nillion/ETH-Online-mental-health/venv/lib/python3.12/site-packages (from sympy->torch) (1.3.0)\n",
      "Requirement already satisfied: torchvision in /home/brglt/Desktop/nillion/ETH-Online-mental-health/venv/lib/python3.12/site-packages (0.18.1)\n",
      "Requirement already satisfied: numpy in /home/brglt/Desktop/nillion/ETH-Online-mental-health/venv/lib/python3.12/site-packages (from torchvision) (1.26.4)\n",
      "Requirement already satisfied: torch==2.3.1 in /home/brglt/Desktop/nillion/ETH-Online-mental-health/venv/lib/python3.12/site-packages (from torchvision) (2.3.1)\n",
      "Requirement already satisfied: pillow!=8.3.*,>=5.3.0 in /home/brglt/Desktop/nillion/ETH-Online-mental-health/venv/lib/python3.12/site-packages (from torchvision) (10.3.0)\n",
      "Requirement already satisfied: filelock in /home/brglt/Desktop/nillion/ETH-Online-mental-health/venv/lib/python3.12/site-packages (from torch==2.3.1->torchvision) (3.15.4)\n",
      "Requirement already satisfied: typing-extensions>=4.8.0 in /home/brglt/Desktop/nillion/ETH-Online-mental-health/venv/lib/python3.12/site-packages (from torch==2.3.1->torchvision) (4.12.2)\n",
      "Requirement already satisfied: sympy in /home/brglt/Desktop/nillion/ETH-Online-mental-health/venv/lib/python3.12/site-packages (from torch==2.3.1->torchvision) (1.13.2)\n",
      "Requirement already satisfied: networkx in /home/brglt/Desktop/nillion/ETH-Online-mental-health/venv/lib/python3.12/site-packages (from torch==2.3.1->torchvision) (3.3)\n",
      "Requirement already satisfied: jinja2 in /home/brglt/Desktop/nillion/ETH-Online-mental-health/venv/lib/python3.12/site-packages (from torch==2.3.1->torchvision) (3.1.4)\n",
      "Requirement already satisfied: fsspec in /home/brglt/Desktop/nillion/ETH-Online-mental-health/venv/lib/python3.12/site-packages (from torch==2.3.1->torchvision) (2024.6.1)\n",
      "Requirement already satisfied: nvidia-cuda-nvrtc-cu12==12.1.105 in /home/brglt/Desktop/nillion/ETH-Online-mental-health/venv/lib/python3.12/site-packages (from torch==2.3.1->torchvision) (12.1.105)\n",
      "Requirement already satisfied: nvidia-cuda-runtime-cu12==12.1.105 in /home/brglt/Desktop/nillion/ETH-Online-mental-health/venv/lib/python3.12/site-packages (from torch==2.3.1->torchvision) (12.1.105)\n",
      "Requirement already satisfied: nvidia-cuda-cupti-cu12==12.1.105 in /home/brglt/Desktop/nillion/ETH-Online-mental-health/venv/lib/python3.12/site-packages (from torch==2.3.1->torchvision) (12.1.105)\n",
      "Requirement already satisfied: nvidia-cudnn-cu12==8.9.2.26 in /home/brglt/Desktop/nillion/ETH-Online-mental-health/venv/lib/python3.12/site-packages (from torch==2.3.1->torchvision) (8.9.2.26)\n",
      "Requirement already satisfied: nvidia-cublas-cu12==12.1.3.1 in /home/brglt/Desktop/nillion/ETH-Online-mental-health/venv/lib/python3.12/site-packages (from torch==2.3.1->torchvision) (12.1.3.1)\n",
      "Requirement already satisfied: nvidia-cufft-cu12==11.0.2.54 in /home/brglt/Desktop/nillion/ETH-Online-mental-health/venv/lib/python3.12/site-packages (from torch==2.3.1->torchvision) (11.0.2.54)\n",
      "Requirement already satisfied: nvidia-curand-cu12==10.3.2.106 in /home/brglt/Desktop/nillion/ETH-Online-mental-health/venv/lib/python3.12/site-packages (from torch==2.3.1->torchvision) (10.3.2.106)\n",
      "Requirement already satisfied: nvidia-cusolver-cu12==11.4.5.107 in /home/brglt/Desktop/nillion/ETH-Online-mental-health/venv/lib/python3.12/site-packages (from torch==2.3.1->torchvision) (11.4.5.107)\n",
      "Requirement already satisfied: nvidia-cusparse-cu12==12.1.0.106 in /home/brglt/Desktop/nillion/ETH-Online-mental-health/venv/lib/python3.12/site-packages (from torch==2.3.1->torchvision) (12.1.0.106)\n",
      "Requirement already satisfied: nvidia-nccl-cu12==2.20.5 in /home/brglt/Desktop/nillion/ETH-Online-mental-health/venv/lib/python3.12/site-packages (from torch==2.3.1->torchvision) (2.20.5)\n",
      "Requirement already satisfied: nvidia-nvtx-cu12==12.1.105 in /home/brglt/Desktop/nillion/ETH-Online-mental-health/venv/lib/python3.12/site-packages (from torch==2.3.1->torchvision) (12.1.105)\n",
      "Requirement already satisfied: nvidia-nvjitlink-cu12 in /home/brglt/Desktop/nillion/ETH-Online-mental-health/venv/lib/python3.12/site-packages (from nvidia-cusolver-cu12==11.4.5.107->torch==2.3.1->torchvision) (12.6.68)\n",
      "Requirement already satisfied: MarkupSafe>=2.0 in /home/brglt/Desktop/nillion/ETH-Online-mental-health/venv/lib/python3.12/site-packages (from jinja2->torch==2.3.1->torchvision) (2.1.5)\n",
      "Requirement already satisfied: mpmath<1.4,>=1.1.0 in /home/brglt/Desktop/nillion/ETH-Online-mental-health/venv/lib/python3.12/site-packages (from sympy->torch==2.3.1->torchvision) (1.3.0)\n",
      "Requirement already satisfied: nada_ai in /home/brglt/Desktop/nillion/ETH-Online-mental-health/venv/lib/python3.12/site-packages (0.5.0)\n",
      "Collecting nada-dsl<0.7.0,>=0.6.0 (from nada_ai)\n",
      "  Using cached nada_dsl-0.6.0-py3-none-any.whl.metadata (14 kB)\n",
      "Requirement already satisfied: nada-numpy<0.6.0,>=0.5.0 in /home/brglt/Desktop/nillion/ETH-Online-mental-health/venv/lib/python3.12/site-packages (from nada_ai) (0.5.0)\n",
      "Requirement already satisfied: nillion-python-helpers<0.3.0,>=0.2.3 in /home/brglt/Desktop/nillion/ETH-Online-mental-health/venv/lib/python3.12/site-packages (from nada_ai) (0.2.3)\n",
      "Requirement already satisfied: prophet<2.0.0,>=1.1.5 in /home/brglt/Desktop/nillion/ETH-Online-mental-health/venv/lib/python3.12/site-packages (from nada_ai) (1.1.5)\n",
      "Collecting py-nillion-client<0.7.0,>=0.6.0 (from nada_ai)\n",
      "  Using cached py_nillion_client-0.6.0-cp37-abi3-manylinux_2_17_x86_64.manylinux2014_x86_64.whl.metadata (1.3 kB)\n",
      "Requirement already satisfied: scikit-learn<2.0.0,>=1.4.2 in /home/brglt/Desktop/nillion/ETH-Online-mental-health/venv/lib/python3.12/site-packages (from nada_ai) (1.5.1)\n",
      "Requirement already satisfied: torch<3.0.0,>=2.0.0 in /home/brglt/Desktop/nillion/ETH-Online-mental-health/venv/lib/python3.12/site-packages (from nada_ai) (2.3.1)\n",
      "Requirement already satisfied: asttokens~=2.4 in /home/brglt/Desktop/nillion/ETH-Online-mental-health/venv/lib/python3.12/site-packages (from nada-dsl<0.7.0,>=0.6.0->nada_ai) (2.4.1)\n",
      "Requirement already satisfied: richreports~=0.2 in /home/brglt/Desktop/nillion/ETH-Online-mental-health/venv/lib/python3.12/site-packages (from nada-dsl<0.7.0,>=0.6.0->nada_ai) (0.2.0)\n",
      "Requirement already satisfied: parsial~=0.1 in /home/brglt/Desktop/nillion/ETH-Online-mental-health/venv/lib/python3.12/site-packages (from nada-dsl<0.7.0,>=0.6.0->nada_ai) (0.1.0)\n",
      "Requirement already satisfied: sortedcontainers~=2.4 in /home/brglt/Desktop/nillion/ETH-Online-mental-health/venv/lib/python3.12/site-packages (from nada-dsl<0.7.0,>=0.6.0->nada_ai) (2.4.0)\n",
      "Requirement already satisfied: numpy<2.0.0,>=1.26.4 in /home/brglt/Desktop/nillion/ETH-Online-mental-health/venv/lib/python3.12/site-packages (from nada-numpy<0.6.0,>=0.5.0->nada_ai) (1.26.4)\n",
      "Requirement already satisfied: cosmpy<0.10.0,>=0.9.2 in /home/brglt/Desktop/nillion/ETH-Online-mental-health/venv/lib/python3.12/site-packages (from nillion-python-helpers<0.3.0,>=0.2.3->nada_ai) (0.9.2)\n",
      "Requirement already satisfied: pytest-asyncio<0.24.0,>=0.23.7 in /home/brglt/Desktop/nillion/ETH-Online-mental-health/venv/lib/python3.12/site-packages (from nillion-python-helpers<0.3.0,>=0.2.3->nada_ai) (0.23.8)\n",
      "Requirement already satisfied: python-dotenv==1.0.0 in /home/brglt/Desktop/nillion/ETH-Online-mental-health/venv/lib/python3.12/site-packages (from nillion-python-helpers<0.3.0,>=0.2.3->nada_ai) (1.0.0)\n",
      "Requirement already satisfied: cmdstanpy>=1.0.4 in /home/brglt/Desktop/nillion/ETH-Online-mental-health/venv/lib/python3.12/site-packages (from prophet<2.0.0,>=1.1.5->nada_ai) (1.2.4)\n",
      "Requirement already satisfied: matplotlib>=2.0.0 in /home/brglt/Desktop/nillion/ETH-Online-mental-health/venv/lib/python3.12/site-packages (from prophet<2.0.0,>=1.1.5->nada_ai) (3.9.2)\n",
      "Requirement already satisfied: pandas>=1.0.4 in /home/brglt/Desktop/nillion/ETH-Online-mental-health/venv/lib/python3.12/site-packages (from prophet<2.0.0,>=1.1.5->nada_ai) (2.2.2)\n",
      "Requirement already satisfied: holidays>=0.25 in /home/brglt/Desktop/nillion/ETH-Online-mental-health/venv/lib/python3.12/site-packages (from prophet<2.0.0,>=1.1.5->nada_ai) (0.56)\n",
      "Requirement already satisfied: tqdm>=4.36.1 in /home/brglt/Desktop/nillion/ETH-Online-mental-health/venv/lib/python3.12/site-packages (from prophet<2.0.0,>=1.1.5->nada_ai) (4.66.5)\n",
      "Requirement already satisfied: importlib-resources in /home/brglt/Desktop/nillion/ETH-Online-mental-health/venv/lib/python3.12/site-packages (from prophet<2.0.0,>=1.1.5->nada_ai) (6.4.4)\n",
      "Requirement already satisfied: protobuf<5.0.dev0,>=4.21.6 in /home/brglt/Desktop/nillion/ETH-Online-mental-health/venv/lib/python3.12/site-packages (from py-nillion-client<0.7.0,>=0.6.0->nada_ai) (4.25.4)\n",
      "Requirement already satisfied: scipy>=1.6.0 in /home/brglt/Desktop/nillion/ETH-Online-mental-health/venv/lib/python3.12/site-packages (from scikit-learn<2.0.0,>=1.4.2->nada_ai) (1.14.1)\n",
      "Requirement already satisfied: joblib>=1.2.0 in /home/brglt/Desktop/nillion/ETH-Online-mental-health/venv/lib/python3.12/site-packages (from scikit-learn<2.0.0,>=1.4.2->nada_ai) (1.4.2)\n",
      "Requirement already satisfied: threadpoolctl>=3.1.0 in /home/brglt/Desktop/nillion/ETH-Online-mental-health/venv/lib/python3.12/site-packages (from scikit-learn<2.0.0,>=1.4.2->nada_ai) (3.5.0)\n",
      "Requirement already satisfied: filelock in /home/brglt/Desktop/nillion/ETH-Online-mental-health/venv/lib/python3.12/site-packages (from torch<3.0.0,>=2.0.0->nada_ai) (3.15.4)\n",
      "Requirement already satisfied: typing-extensions>=4.8.0 in /home/brglt/Desktop/nillion/ETH-Online-mental-health/venv/lib/python3.12/site-packages (from torch<3.0.0,>=2.0.0->nada_ai) (4.12.2)\n",
      "Requirement already satisfied: sympy in /home/brglt/Desktop/nillion/ETH-Online-mental-health/venv/lib/python3.12/site-packages (from torch<3.0.0,>=2.0.0->nada_ai) (1.13.2)\n",
      "Requirement already satisfied: networkx in /home/brglt/Desktop/nillion/ETH-Online-mental-health/venv/lib/python3.12/site-packages (from torch<3.0.0,>=2.0.0->nada_ai) (3.3)\n",
      "Requirement already satisfied: jinja2 in /home/brglt/Desktop/nillion/ETH-Online-mental-health/venv/lib/python3.12/site-packages (from torch<3.0.0,>=2.0.0->nada_ai) (3.1.4)\n",
      "Requirement already satisfied: fsspec in /home/brglt/Desktop/nillion/ETH-Online-mental-health/venv/lib/python3.12/site-packages (from torch<3.0.0,>=2.0.0->nada_ai) (2024.6.1)\n",
      "Requirement already satisfied: nvidia-cuda-nvrtc-cu12==12.1.105 in /home/brglt/Desktop/nillion/ETH-Online-mental-health/venv/lib/python3.12/site-packages (from torch<3.0.0,>=2.0.0->nada_ai) (12.1.105)\n",
      "Requirement already satisfied: nvidia-cuda-runtime-cu12==12.1.105 in /home/brglt/Desktop/nillion/ETH-Online-mental-health/venv/lib/python3.12/site-packages (from torch<3.0.0,>=2.0.0->nada_ai) (12.1.105)\n",
      "Requirement already satisfied: nvidia-cuda-cupti-cu12==12.1.105 in /home/brglt/Desktop/nillion/ETH-Online-mental-health/venv/lib/python3.12/site-packages (from torch<3.0.0,>=2.0.0->nada_ai) (12.1.105)\n",
      "Requirement already satisfied: nvidia-cudnn-cu12==8.9.2.26 in /home/brglt/Desktop/nillion/ETH-Online-mental-health/venv/lib/python3.12/site-packages (from torch<3.0.0,>=2.0.0->nada_ai) (8.9.2.26)\n",
      "Requirement already satisfied: nvidia-cublas-cu12==12.1.3.1 in /home/brglt/Desktop/nillion/ETH-Online-mental-health/venv/lib/python3.12/site-packages (from torch<3.0.0,>=2.0.0->nada_ai) (12.1.3.1)\n",
      "Requirement already satisfied: nvidia-cufft-cu12==11.0.2.54 in /home/brglt/Desktop/nillion/ETH-Online-mental-health/venv/lib/python3.12/site-packages (from torch<3.0.0,>=2.0.0->nada_ai) (11.0.2.54)\n",
      "Requirement already satisfied: nvidia-curand-cu12==10.3.2.106 in /home/brglt/Desktop/nillion/ETH-Online-mental-health/venv/lib/python3.12/site-packages (from torch<3.0.0,>=2.0.0->nada_ai) (10.3.2.106)\n",
      "Requirement already satisfied: nvidia-cusolver-cu12==11.4.5.107 in /home/brglt/Desktop/nillion/ETH-Online-mental-health/venv/lib/python3.12/site-packages (from torch<3.0.0,>=2.0.0->nada_ai) (11.4.5.107)\n",
      "Requirement already satisfied: nvidia-cusparse-cu12==12.1.0.106 in /home/brglt/Desktop/nillion/ETH-Online-mental-health/venv/lib/python3.12/site-packages (from torch<3.0.0,>=2.0.0->nada_ai) (12.1.0.106)\n",
      "Requirement already satisfied: nvidia-nccl-cu12==2.20.5 in /home/brglt/Desktop/nillion/ETH-Online-mental-health/venv/lib/python3.12/site-packages (from torch<3.0.0,>=2.0.0->nada_ai) (2.20.5)\n",
      "Requirement already satisfied: nvidia-nvtx-cu12==12.1.105 in /home/brglt/Desktop/nillion/ETH-Online-mental-health/venv/lib/python3.12/site-packages (from torch<3.0.0,>=2.0.0->nada_ai) (12.1.105)\n",
      "Requirement already satisfied: nvidia-nvjitlink-cu12 in /home/brglt/Desktop/nillion/ETH-Online-mental-health/venv/lib/python3.12/site-packages (from nvidia-cusolver-cu12==11.4.5.107->torch<3.0.0,>=2.0.0->nada_ai) (12.6.68)\n",
      "Requirement already satisfied: six>=1.12.0 in /home/brglt/Desktop/nillion/ETH-Online-mental-health/venv/lib/python3.12/site-packages (from asttokens~=2.4->nada-dsl<0.7.0,>=0.6.0->nada_ai) (1.16.0)\n",
      "Requirement already satisfied: stanio<2.0.0,>=0.4.0 in /home/brglt/Desktop/nillion/ETH-Online-mental-health/venv/lib/python3.12/site-packages (from cmdstanpy>=1.0.4->prophet<2.0.0,>=1.1.5->nada_ai) (0.5.1)\n",
      "Requirement already satisfied: bech32 in /home/brglt/Desktop/nillion/ETH-Online-mental-health/venv/lib/python3.12/site-packages (from cosmpy<0.10.0,>=0.9.2->nillion-python-helpers<0.3.0,>=0.2.3->nada_ai) (1.2.0)\n",
      "Requirement already satisfied: ecdsa in /home/brglt/Desktop/nillion/ETH-Online-mental-health/venv/lib/python3.12/site-packages (from cosmpy<0.10.0,>=0.9.2->nillion-python-helpers<0.3.0,>=0.2.3->nada_ai) (0.19.0)\n",
      "Requirement already satisfied: googleapis-common-protos in /home/brglt/Desktop/nillion/ETH-Online-mental-health/venv/lib/python3.12/site-packages (from cosmpy<0.10.0,>=0.9.2->nillion-python-helpers<0.3.0,>=0.2.3->nada_ai) (1.65.0)\n",
      "Requirement already satisfied: grpcio in /home/brglt/Desktop/nillion/ETH-Online-mental-health/venv/lib/python3.12/site-packages (from cosmpy<0.10.0,>=0.9.2->nillion-python-helpers<0.3.0,>=0.2.3->nada_ai) (1.66.1)\n",
      "Requirement already satisfied: jsonschema<5,>=3.2.0 in /home/brglt/Desktop/nillion/ETH-Online-mental-health/venv/lib/python3.12/site-packages (from cosmpy<0.10.0,>=0.9.2->nillion-python-helpers<0.3.0,>=0.2.3->nada_ai) (4.23.0)\n",
      "Requirement already satisfied: pycryptodome<4.0.0,>=3.18.0 in /home/brglt/Desktop/nillion/ETH-Online-mental-health/venv/lib/python3.12/site-packages (from cosmpy<0.10.0,>=0.9.2->nillion-python-helpers<0.3.0,>=0.2.3->nada_ai) (3.20.0)\n",
      "Requirement already satisfied: python-dateutil in /home/brglt/Desktop/nillion/ETH-Online-mental-health/venv/lib/python3.12/site-packages (from cosmpy<0.10.0,>=0.9.2->nillion-python-helpers<0.3.0,>=0.2.3->nada_ai) (2.9.0.post0)\n",
      "Requirement already satisfied: requests in /home/brglt/Desktop/nillion/ETH-Online-mental-health/venv/lib/python3.12/site-packages (from cosmpy<0.10.0,>=0.9.2->nillion-python-helpers<0.3.0,>=0.2.3->nada_ai) (2.32.3)\n",
      "Requirement already satisfied: contourpy>=1.0.1 in /home/brglt/Desktop/nillion/ETH-Online-mental-health/venv/lib/python3.12/site-packages (from matplotlib>=2.0.0->prophet<2.0.0,>=1.1.5->nada_ai) (1.3.0)\n",
      "Requirement already satisfied: cycler>=0.10 in /home/brglt/Desktop/nillion/ETH-Online-mental-health/venv/lib/python3.12/site-packages (from matplotlib>=2.0.0->prophet<2.0.0,>=1.1.5->nada_ai) (0.12.1)\n",
      "Requirement already satisfied: fonttools>=4.22.0 in /home/brglt/Desktop/nillion/ETH-Online-mental-health/venv/lib/python3.12/site-packages (from matplotlib>=2.0.0->prophet<2.0.0,>=1.1.5->nada_ai) (4.53.1)\n",
      "Requirement already satisfied: kiwisolver>=1.3.1 in /home/brglt/Desktop/nillion/ETH-Online-mental-health/venv/lib/python3.12/site-packages (from matplotlib>=2.0.0->prophet<2.0.0,>=1.1.5->nada_ai) (1.4.6)\n",
      "Requirement already satisfied: packaging>=20.0 in /home/brglt/Desktop/nillion/ETH-Online-mental-health/venv/lib/python3.12/site-packages (from matplotlib>=2.0.0->prophet<2.0.0,>=1.1.5->nada_ai) (24.1)\n",
      "Requirement already satisfied: pillow>=8 in /home/brglt/Desktop/nillion/ETH-Online-mental-health/venv/lib/python3.12/site-packages (from matplotlib>=2.0.0->prophet<2.0.0,>=1.1.5->nada_ai) (10.3.0)\n",
      "Requirement already satisfied: pyparsing>=2.3.1 in /home/brglt/Desktop/nillion/ETH-Online-mental-health/venv/lib/python3.12/site-packages (from matplotlib>=2.0.0->prophet<2.0.0,>=1.1.5->nada_ai) (3.1.4)\n",
      "Requirement already satisfied: pytz>=2020.1 in /home/brglt/Desktop/nillion/ETH-Online-mental-health/venv/lib/python3.12/site-packages (from pandas>=1.0.4->prophet<2.0.0,>=1.1.5->nada_ai) (2024.1)\n",
      "Requirement already satisfied: tzdata>=2022.7 in /home/brglt/Desktop/nillion/ETH-Online-mental-health/venv/lib/python3.12/site-packages (from pandas>=1.0.4->prophet<2.0.0,>=1.1.5->nada_ai) (2024.1)\n",
      "Requirement already satisfied: pytest<9,>=7.0.0 in /home/brglt/Desktop/nillion/ETH-Online-mental-health/venv/lib/python3.12/site-packages (from pytest-asyncio<0.24.0,>=0.23.7->nillion-python-helpers<0.3.0,>=0.2.3->nada_ai) (8.3.2)\n",
      "Requirement already satisfied: MarkupSafe>=2.0 in /home/brglt/Desktop/nillion/ETH-Online-mental-health/venv/lib/python3.12/site-packages (from jinja2->torch<3.0.0,>=2.0.0->nada_ai) (2.1.5)\n",
      "Requirement already satisfied: mpmath<1.4,>=1.1.0 in /home/brglt/Desktop/nillion/ETH-Online-mental-health/venv/lib/python3.12/site-packages (from sympy->torch<3.0.0,>=2.0.0->nada_ai) (1.3.0)\n",
      "Requirement already satisfied: attrs>=22.2.0 in /home/brglt/Desktop/nillion/ETH-Online-mental-health/venv/lib/python3.12/site-packages (from jsonschema<5,>=3.2.0->cosmpy<0.10.0,>=0.9.2->nillion-python-helpers<0.3.0,>=0.2.3->nada_ai) (24.2.0)\n",
      "Requirement already satisfied: jsonschema-specifications>=2023.03.6 in /home/brglt/Desktop/nillion/ETH-Online-mental-health/venv/lib/python3.12/site-packages (from jsonschema<5,>=3.2.0->cosmpy<0.10.0,>=0.9.2->nillion-python-helpers<0.3.0,>=0.2.3->nada_ai) (2023.12.1)\n",
      "Requirement already satisfied: referencing>=0.28.4 in /home/brglt/Desktop/nillion/ETH-Online-mental-health/venv/lib/python3.12/site-packages (from jsonschema<5,>=3.2.0->cosmpy<0.10.0,>=0.9.2->nillion-python-helpers<0.3.0,>=0.2.3->nada_ai) (0.35.1)\n",
      "Requirement already satisfied: rpds-py>=0.7.1 in /home/brglt/Desktop/nillion/ETH-Online-mental-health/venv/lib/python3.12/site-packages (from jsonschema<5,>=3.2.0->cosmpy<0.10.0,>=0.9.2->nillion-python-helpers<0.3.0,>=0.2.3->nada_ai) (0.20.0)\n",
      "Requirement already satisfied: iniconfig in /home/brglt/Desktop/nillion/ETH-Online-mental-health/venv/lib/python3.12/site-packages (from pytest<9,>=7.0.0->pytest-asyncio<0.24.0,>=0.23.7->nillion-python-helpers<0.3.0,>=0.2.3->nada_ai) (2.0.0)\n",
      "Requirement already satisfied: pluggy<2,>=1.5 in /home/brglt/Desktop/nillion/ETH-Online-mental-health/venv/lib/python3.12/site-packages (from pytest<9,>=7.0.0->pytest-asyncio<0.24.0,>=0.23.7->nillion-python-helpers<0.3.0,>=0.2.3->nada_ai) (1.5.0)\n",
      "Requirement already satisfied: charset-normalizer<4,>=2 in /home/brglt/Desktop/nillion/ETH-Online-mental-health/venv/lib/python3.12/site-packages (from requests->cosmpy<0.10.0,>=0.9.2->nillion-python-helpers<0.3.0,>=0.2.3->nada_ai) (3.3.2)\n",
      "Requirement already satisfied: idna<4,>=2.5 in /home/brglt/Desktop/nillion/ETH-Online-mental-health/venv/lib/python3.12/site-packages (from requests->cosmpy<0.10.0,>=0.9.2->nillion-python-helpers<0.3.0,>=0.2.3->nada_ai) (3.8)\n",
      "Requirement already satisfied: urllib3<3,>=1.21.1 in /home/brglt/Desktop/nillion/ETH-Online-mental-health/venv/lib/python3.12/site-packages (from requests->cosmpy<0.10.0,>=0.9.2->nillion-python-helpers<0.3.0,>=0.2.3->nada_ai) (2.2.2)\n",
      "Requirement already satisfied: certifi>=2017.4.17 in /home/brglt/Desktop/nillion/ETH-Online-mental-health/venv/lib/python3.12/site-packages (from requests->cosmpy<0.10.0,>=0.9.2->nillion-python-helpers<0.3.0,>=0.2.3->nada_ai) (2024.8.30)\n",
      "Using cached nada_dsl-0.6.0-py3-none-any.whl (54 kB)\n",
      "Using cached py_nillion_client-0.6.0-cp37-abi3-manylinux_2_17_x86_64.manylinux2014_x86_64.whl (12.1 MB)\n",
      "Installing collected packages: py-nillion-client, nada-dsl\n",
      "  Attempting uninstall: py-nillion-client\n",
      "    Found existing installation: py-nillion-client 0.1.1\n",
      "    Uninstalling py-nillion-client-0.1.1:\n",
      "      Successfully uninstalled py-nillion-client-0.1.1\n",
      "  Attempting uninstall: nada-dsl\n",
      "    Found existing installation: nada-dsl 0.1.0\n",
      "    Uninstalling nada-dsl-0.1.0:\n",
      "      Successfully uninstalled nada-dsl-0.1.0\n",
      "Successfully installed nada-dsl-0.6.0 py-nillion-client-0.6.0\n",
      "Requirement already satisfied: nada_numpy in /home/brglt/Desktop/nillion/ETH-Online-mental-health/venv/lib/python3.12/site-packages (0.5.0)\n",
      "Requirement already satisfied: nada-dsl<0.7.0,>=0.6.0 in /home/brglt/Desktop/nillion/ETH-Online-mental-health/venv/lib/python3.12/site-packages (from nada_numpy) (0.6.0)\n",
      "Requirement already satisfied: nillion-python-helpers<0.3.0,>=0.2.3 in /home/brglt/Desktop/nillion/ETH-Online-mental-health/venv/lib/python3.12/site-packages (from nada_numpy) (0.2.3)\n",
      "Requirement already satisfied: numpy<2.0.0,>=1.26.4 in /home/brglt/Desktop/nillion/ETH-Online-mental-health/venv/lib/python3.12/site-packages (from nada_numpy) (1.26.4)\n",
      "Requirement already satisfied: py-nillion-client<0.7.0,>=0.6.0 in /home/brglt/Desktop/nillion/ETH-Online-mental-health/venv/lib/python3.12/site-packages (from nada_numpy) (0.6.0)\n",
      "Requirement already satisfied: asttokens~=2.4 in /home/brglt/Desktop/nillion/ETH-Online-mental-health/venv/lib/python3.12/site-packages (from nada-dsl<0.7.0,>=0.6.0->nada_numpy) (2.4.1)\n",
      "Requirement already satisfied: richreports~=0.2 in /home/brglt/Desktop/nillion/ETH-Online-mental-health/venv/lib/python3.12/site-packages (from nada-dsl<0.7.0,>=0.6.0->nada_numpy) (0.2.0)\n",
      "Requirement already satisfied: parsial~=0.1 in /home/brglt/Desktop/nillion/ETH-Online-mental-health/venv/lib/python3.12/site-packages (from nada-dsl<0.7.0,>=0.6.0->nada_numpy) (0.1.0)\n",
      "Requirement already satisfied: sortedcontainers~=2.4 in /home/brglt/Desktop/nillion/ETH-Online-mental-health/venv/lib/python3.12/site-packages (from nada-dsl<0.7.0,>=0.6.0->nada_numpy) (2.4.0)\n",
      "Requirement already satisfied: cosmpy<0.10.0,>=0.9.2 in /home/brglt/Desktop/nillion/ETH-Online-mental-health/venv/lib/python3.12/site-packages (from nillion-python-helpers<0.3.0,>=0.2.3->nada_numpy) (0.9.2)\n",
      "Requirement already satisfied: pytest-asyncio<0.24.0,>=0.23.7 in /home/brglt/Desktop/nillion/ETH-Online-mental-health/venv/lib/python3.12/site-packages (from nillion-python-helpers<0.3.0,>=0.2.3->nada_numpy) (0.23.8)\n",
      "Requirement already satisfied: python-dotenv==1.0.0 in /home/brglt/Desktop/nillion/ETH-Online-mental-health/venv/lib/python3.12/site-packages (from nillion-python-helpers<0.3.0,>=0.2.3->nada_numpy) (1.0.0)\n",
      "Requirement already satisfied: protobuf<5.0.dev0,>=4.21.6 in /home/brglt/Desktop/nillion/ETH-Online-mental-health/venv/lib/python3.12/site-packages (from py-nillion-client<0.7.0,>=0.6.0->nada_numpy) (4.25.4)\n",
      "Requirement already satisfied: six>=1.12.0 in /home/brglt/Desktop/nillion/ETH-Online-mental-health/venv/lib/python3.12/site-packages (from asttokens~=2.4->nada-dsl<0.7.0,>=0.6.0->nada_numpy) (1.16.0)\n",
      "Requirement already satisfied: bech32 in /home/brglt/Desktop/nillion/ETH-Online-mental-health/venv/lib/python3.12/site-packages (from cosmpy<0.10.0,>=0.9.2->nillion-python-helpers<0.3.0,>=0.2.3->nada_numpy) (1.2.0)\n",
      "Requirement already satisfied: ecdsa in /home/brglt/Desktop/nillion/ETH-Online-mental-health/venv/lib/python3.12/site-packages (from cosmpy<0.10.0,>=0.9.2->nillion-python-helpers<0.3.0,>=0.2.3->nada_numpy) (0.19.0)\n",
      "Requirement already satisfied: googleapis-common-protos in /home/brglt/Desktop/nillion/ETH-Online-mental-health/venv/lib/python3.12/site-packages (from cosmpy<0.10.0,>=0.9.2->nillion-python-helpers<0.3.0,>=0.2.3->nada_numpy) (1.65.0)\n",
      "Requirement already satisfied: grpcio in /home/brglt/Desktop/nillion/ETH-Online-mental-health/venv/lib/python3.12/site-packages (from cosmpy<0.10.0,>=0.9.2->nillion-python-helpers<0.3.0,>=0.2.3->nada_numpy) (1.66.1)\n",
      "Requirement already satisfied: jsonschema<5,>=3.2.0 in /home/brglt/Desktop/nillion/ETH-Online-mental-health/venv/lib/python3.12/site-packages (from cosmpy<0.10.0,>=0.9.2->nillion-python-helpers<0.3.0,>=0.2.3->nada_numpy) (4.23.0)\n",
      "Requirement already satisfied: pycryptodome<4.0.0,>=3.18.0 in /home/brglt/Desktop/nillion/ETH-Online-mental-health/venv/lib/python3.12/site-packages (from cosmpy<0.10.0,>=0.9.2->nillion-python-helpers<0.3.0,>=0.2.3->nada_numpy) (3.20.0)\n",
      "Requirement already satisfied: python-dateutil in /home/brglt/Desktop/nillion/ETH-Online-mental-health/venv/lib/python3.12/site-packages (from cosmpy<0.10.0,>=0.9.2->nillion-python-helpers<0.3.0,>=0.2.3->nada_numpy) (2.9.0.post0)\n",
      "Requirement already satisfied: requests in /home/brglt/Desktop/nillion/ETH-Online-mental-health/venv/lib/python3.12/site-packages (from cosmpy<0.10.0,>=0.9.2->nillion-python-helpers<0.3.0,>=0.2.3->nada_numpy) (2.32.3)\n",
      "Requirement already satisfied: pytest<9,>=7.0.0 in /home/brglt/Desktop/nillion/ETH-Online-mental-health/venv/lib/python3.12/site-packages (from pytest-asyncio<0.24.0,>=0.23.7->nillion-python-helpers<0.3.0,>=0.2.3->nada_numpy) (8.3.2)\n",
      "Requirement already satisfied: attrs>=22.2.0 in /home/brglt/Desktop/nillion/ETH-Online-mental-health/venv/lib/python3.12/site-packages (from jsonschema<5,>=3.2.0->cosmpy<0.10.0,>=0.9.2->nillion-python-helpers<0.3.0,>=0.2.3->nada_numpy) (24.2.0)\n",
      "Requirement already satisfied: jsonschema-specifications>=2023.03.6 in /home/brglt/Desktop/nillion/ETH-Online-mental-health/venv/lib/python3.12/site-packages (from jsonschema<5,>=3.2.0->cosmpy<0.10.0,>=0.9.2->nillion-python-helpers<0.3.0,>=0.2.3->nada_numpy) (2023.12.1)\n",
      "Requirement already satisfied: referencing>=0.28.4 in /home/brglt/Desktop/nillion/ETH-Online-mental-health/venv/lib/python3.12/site-packages (from jsonschema<5,>=3.2.0->cosmpy<0.10.0,>=0.9.2->nillion-python-helpers<0.3.0,>=0.2.3->nada_numpy) (0.35.1)\n",
      "Requirement already satisfied: rpds-py>=0.7.1 in /home/brglt/Desktop/nillion/ETH-Online-mental-health/venv/lib/python3.12/site-packages (from jsonschema<5,>=3.2.0->cosmpy<0.10.0,>=0.9.2->nillion-python-helpers<0.3.0,>=0.2.3->nada_numpy) (0.20.0)\n",
      "Requirement already satisfied: iniconfig in /home/brglt/Desktop/nillion/ETH-Online-mental-health/venv/lib/python3.12/site-packages (from pytest<9,>=7.0.0->pytest-asyncio<0.24.0,>=0.23.7->nillion-python-helpers<0.3.0,>=0.2.3->nada_numpy) (2.0.0)\n",
      "Requirement already satisfied: packaging in /home/brglt/Desktop/nillion/ETH-Online-mental-health/venv/lib/python3.12/site-packages (from pytest<9,>=7.0.0->pytest-asyncio<0.24.0,>=0.23.7->nillion-python-helpers<0.3.0,>=0.2.3->nada_numpy) (24.1)\n",
      "Requirement already satisfied: pluggy<2,>=1.5 in /home/brglt/Desktop/nillion/ETH-Online-mental-health/venv/lib/python3.12/site-packages (from pytest<9,>=7.0.0->pytest-asyncio<0.24.0,>=0.23.7->nillion-python-helpers<0.3.0,>=0.2.3->nada_numpy) (1.5.0)\n",
      "Requirement already satisfied: charset-normalizer<4,>=2 in /home/brglt/Desktop/nillion/ETH-Online-mental-health/venv/lib/python3.12/site-packages (from requests->cosmpy<0.10.0,>=0.9.2->nillion-python-helpers<0.3.0,>=0.2.3->nada_numpy) (3.3.2)\n",
      "Requirement already satisfied: idna<4,>=2.5 in /home/brglt/Desktop/nillion/ETH-Online-mental-health/venv/lib/python3.12/site-packages (from requests->cosmpy<0.10.0,>=0.9.2->nillion-python-helpers<0.3.0,>=0.2.3->nada_numpy) (3.8)\n",
      "Requirement already satisfied: urllib3<3,>=1.21.1 in /home/brglt/Desktop/nillion/ETH-Online-mental-health/venv/lib/python3.12/site-packages (from requests->cosmpy<0.10.0,>=0.9.2->nillion-python-helpers<0.3.0,>=0.2.3->nada_numpy) (2.2.2)\n",
      "Requirement already satisfied: certifi>=2017.4.17 in /home/brglt/Desktop/nillion/ETH-Online-mental-health/venv/lib/python3.12/site-packages (from requests->cosmpy<0.10.0,>=0.9.2->nillion-python-helpers<0.3.0,>=0.2.3->nada_numpy) (2024.8.30)\n"
     ]
    }
   ],
   "source": [
    "# # this is useful if you get libray incompatibility errors with the Nillion SDK.\n",
    "\n",
    "# # #chanege to your GitHub username\n",
    "# # github_username = \"your-github-username\"\n",
    "\n",
    "# # # do not change this\n",
    "# # forked_repo_name = \"nillion-python-starter\"\n",
    "\n",
    "# # # we need this when we push your commits to GitHub at the end\n",
    "# # email = \"your-github-email\"\n",
    "# # github_token = \"your-github-token\"\n",
    "\n",
    "# # change this to be your ETH address, or something else that is unique to you\n",
    "# my_identifier = \"your-telemetry-identifier\"\n",
    "# install the Nillion python libraries we will need\n",
    "!pip install nada-dsl\n",
    "!pip install py_nillion_client\n",
    "!pip install nillion-python-helpers\n",
    "!pip install cosmpy==0.9.2\n",
    "!pip install python-dotenv\n",
    "\n",
    "# import some more Python libraries\n",
    "import os\n",
    "import time\n",
    "\n",
    "# Install the nilup tool and then use that to install the Nillion SDK\n",
    "!curl https://nilup.nilogy.xyz/install.sh | bash\n",
    "!export PATH=$PATH:/root/.nilup/bin\n",
    "\n",
    "# identifier = \"HH_GOA-\" + my_identifier\n",
    "\n",
    "# Enable telemetry using the identifier you have set above\n",
    "!echo 'yes' | /root/.nilup/bin/nilup instrumentation enable --wallet {identifier}\n",
    "\n",
    "# install the lastest SDK and initialise it\n",
    "\n",
    "!nilup init\n",
    "!nilup install latest --nada-dsl --python-client\n",
    "!nilup use latest\n",
    "!pip install torch\n",
    "!pip install torchvision\n",
    "!pip install nada_ai\n",
    "!pip install nada_numpy"
   ]
  },
  {
   "cell_type": "code",
   "execution_count": 28,
   "metadata": {},
   "outputs": [
    {
     "name": "stdout",
     "output_type": "stream",
     "text": [
      "/home/brglt/Desktop/nillion/ETH-Online-mental-health\n",
      "/home/brglt/.config/nillion/nillion-devnet.env\n"
     ]
    }
   ],
   "source": [
    "import os\n",
    "import sys\n",
    "\n",
    "sys.path.append(os.path.abspath(os.path.join(os.getcwd(), os.pardir)))\n",
    "print(os.path.abspath(os.path.join(os.getcwd(), os.pardir)))\n",
    "import json\n",
    "import nada_numpy as na\n",
    "import numpy as np\n",
    "import py_nillion_client as nillion\n",
    "import torch\n",
    "from common.utils import store_program, store_secrets\n",
    "from cosmpy.aerial.client import LedgerClient\n",
    "from cosmpy.aerial.wallet import LocalWallet\n",
    "from cosmpy.crypto.keypairs import PrivateKey\n",
    "from dotenv import load_dotenv\n",
    "from nada_ai.client import TorchClient\n",
    "from nillion_python_helpers import (create_nillion_client,\n",
    "                                    create_payments_config)\n",
    "from py_nillion_client import NodeKey, UserKey\n",
    "\n",
    "from torch import nn\n",
    "from torchvision import transforms\n",
    "from sklearn.metrics import (\n",
    "    confusion_matrix,\n",
    "    ConfusionMatrixDisplay,\n",
    "    precision_recall_fscore_support,\n",
    ")\n",
    "import matplotlib.pyplot as plt\n",
    "from PIL import Image\n",
    "import numpy as np\n",
    "import pandas as pd\n",
    "home = os.getenv(\"HOME\")\n",
    "load_dotenv(\"nada_project/.env\")\n",
    "print((f\"{home}/.config/nillion/nillion-devnet.env\"))"
   ]
  },
  {
   "cell_type": "markdown",
   "metadata": {},
   "source": [
    "Dataset"
   ]
  },
  {
   "cell_type": "code",
   "execution_count": 29,
   "metadata": {},
   "outputs": [],
   "source": [
    "import torch\n",
    "from torch.utils.data import Dataset\n",
    "import os\n",
    "from sklearn.preprocessing import MinMaxScaler, LabelEncoder\n",
    "\n",
    "class MentalHealthDataset(Dataset):\n",
    "    def __init__(self, dataframe: pd.DataFrame, transform=None):\n",
    "        self.data = dataframe.drop(['target', 'total_count'], axis=1)\n",
    "        self.targets = dataframe['target']\n",
    "        \n",
    "        self.label_encoder = LabelEncoder()\n",
    "        self.targets = self.label_encoder.fit_transform(self.targets)\n",
    "        \n",
    "        self.scaler = MinMaxScaler()\n",
    "        self.data = self.scaler.fit_transform(self.data)\n",
    "\n",
    "        self.transform = transform\n",
    "\n",
    "    def __len__(self):\n",
    "        return len(self.data)\n",
    "\n",
    "    def __getitem__(self, index):\n",
    "        features = torch.tensor(self.data[index], dtype=torch.float32)\n",
    "        label = torch.tensor(self.targets[index], dtype=torch.long)\n",
    "        \n",
    "        if self.transform:\n",
    "            features = self.transform(features)\n",
    "        \n",
    "        return features, label\n"
   ]
  },
  {
   "cell_type": "markdown",
   "metadata": {},
   "source": [
    "Network"
   ]
  },
  {
   "cell_type": "code",
   "execution_count": 30,
   "metadata": {},
   "outputs": [],
   "source": [
    "import torch.nn as nn\n",
    "import nada_numpy as na  # Assuming na.NadaArray usage is required by the NADA environment\n",
    "\n",
    "class MentalHealthNN(nn.Module):\n",
    "    def __init__(self, input_size, num_classes):\n",
    "        super(MentalHealthNN, self).__init__()\n",
    "        self.fc1 = nn.Linear(input_size, 32)  # First fully connected layer\n",
    "        self.fc2 = nn.Linear(32, 16)          # Second fully connected layer\n",
    "        self.fc3 = nn.Linear(16, 8)          # Third fully connected layer\n",
    "        self.fc4 = nn.Linear(8, num_classes) # Output layer\n",
    "        self.relu = nn.ReLU()\n",
    "\n",
    "    def forward(self, x: na.NadaArray) -> na.NadaArray:\n",
    "        x = self.relu(self.fc1(x))\n",
    "        x = self.relu(self.fc2(x))\n",
    "        x = self.relu(self.fc3(x))\n",
    "        x = self.fc4(x)\n",
    "        return x\n"
   ]
  },
  {
   "cell_type": "markdown",
   "metadata": {},
   "source": [
    "Prepare the data"
   ]
  },
  {
   "cell_type": "code",
   "execution_count": 31,
   "metadata": {},
   "outputs": [
    {
     "name": "stdout",
     "output_type": "stream",
     "text": [
      "60\n",
      "Shape of the input data: torch.Size([32, 60])\n",
      "Epoch 1/20, Loss: 1.5507, Train Accuracy: 25.43%, Val Accuracy: 40.71%\n",
      "Epoch 2/20, Loss: 1.2954, Train Accuracy: 48.17%, Val Accuracy: 51.13%\n",
      "Epoch 3/20, Loss: 0.9570, Train Accuracy: 57.38%, Val Accuracy: 63.10%\n",
      "Epoch 4/20, Loss: 0.8095, Train Accuracy: 64.73%, Val Accuracy: 65.50%\n",
      "Epoch 5/20, Loss: 0.7564, Train Accuracy: 66.89%, Val Accuracy: 67.34%\n",
      "Epoch 6/20, Loss: 0.7162, Train Accuracy: 68.59%, Val Accuracy: 69.53%\n",
      "Epoch 7/20, Loss: 0.6753, Train Accuracy: 70.59%, Val Accuracy: 71.84%\n",
      "Epoch 8/20, Loss: 0.6296, Train Accuracy: 72.98%, Val Accuracy: 73.77%\n",
      "Epoch 9/20, Loss: 0.5778, Train Accuracy: 75.96%, Val Accuracy: 77.08%\n",
      "Epoch 10/20, Loss: 0.5196, Train Accuracy: 79.38%, Val Accuracy: 81.20%\n",
      "Epoch 11/20, Loss: 0.4577, Train Accuracy: 83.05%, Val Accuracy: 84.98%\n",
      "Epoch 12/20, Loss: 0.3989, Train Accuracy: 86.80%, Val Accuracy: 88.27%\n",
      "Epoch 13/20, Loss: 0.3466, Train Accuracy: 89.75%, Val Accuracy: 90.65%\n",
      "Epoch 14/20, Loss: 0.3032, Train Accuracy: 92.07%, Val Accuracy: 93.17%\n",
      "Epoch 15/20, Loss: 0.2688, Train Accuracy: 93.51%, Val Accuracy: 93.25%\n",
      "Epoch 16/20, Loss: 0.2408, Train Accuracy: 94.55%, Val Accuracy: 94.31%\n",
      "Epoch 17/20, Loss: 0.2194, Train Accuracy: 95.19%, Val Accuracy: 95.39%\n",
      "Epoch 18/20, Loss: 0.2015, Train Accuracy: 95.65%, Val Accuracy: 96.06%\n",
      "Epoch 19/20, Loss: 0.1854, Train Accuracy: 96.24%, Val Accuracy: 96.76%\n",
      "Epoch 20/20, Loss: 0.1732, Train Accuracy: 96.44%, Val Accuracy: 96.63%\n"
     ]
    }
   ],
   "source": [
    "# Load your dataset\n",
    "depression = pd.read_csv('depression_dataset.csv')\n",
    "\n",
    "# Initialize dataset\n",
    "dataset = MentalHealthDataset(depression)\n",
    "\n",
    "# Split into train and test sets\n",
    "train_size = int(0.7 * len(dataset))\n",
    "val_size = int(0.15 * len(dataset))\n",
    "test_size = len(dataset) - train_size - val_size\n",
    "\n",
    "train_dataset, val_dataset, test_dataset = torch.utils.data.random_split(dataset, [train_size, val_size, test_size])\n",
    "\n",
    "# Create data loaders\n",
    "train_loader = torch.utils.data.DataLoader(train_dataset, batch_size=32, shuffle=True)\n",
    "val_loader = torch.utils.data.DataLoader(val_dataset, batch_size=32, shuffle=False)\n",
    "test_loader = torch.utils.data.DataLoader(test_dataset, batch_size=32, shuffle=False)\n",
    "\n",
    "\n",
    "# Initialize model, loss function, and optimizer\n",
    "input_size = dataset.data.shape[1]\n",
    "print(input_size)\n",
    "num_classes = len(dataset.label_encoder.classes_)\n",
    "model = MentalHealthNN(input_size, num_classes)\n",
    "\n",
    "criterion = nn.CrossEntropyLoss()\n",
    "optimizer = torch.optim.AdamW(model.parameters(), lr=1e-4)\n",
    "\n",
    "train_accuracies = []\n",
    "val_accuracies = []\n",
    "train_losses = []\n",
    "\n",
    "epochs = 20\n",
    "for epoch in range(epochs):\n",
    "    model.train()\n",
    "    running_loss = 0.0\n",
    "    correct = 0\n",
    "    total = 0\n",
    "    for i, (inputs, labels) in enumerate(train_loader):\n",
    "        if epoch == 0 and i == 0:  # Only print once, in the first batch of the first epoch\n",
    "            print(f\"Shape of the input data: {inputs.shape}\")\n",
    "        optimizer.zero_grad()\n",
    "        outputs = model(inputs)\n",
    "        loss = criterion(outputs, labels)\n",
    "        loss.backward()\n",
    "        optimizer.step()\n",
    "\n",
    "        running_loss += loss.item()\n",
    "        _, predicted = torch.max(outputs, 1)\n",
    "        total += labels.size(0)\n",
    "        correct += (predicted == labels).sum().item()\n",
    "    \n",
    "    epoch_loss = running_loss / len(train_loader)\n",
    "    epoch_accuracy = 100 * correct / total\n",
    "    train_losses.append(epoch_loss)\n",
    "    train_accuracies.append(epoch_accuracy)\n",
    "\n",
    "    # Validation phase\n",
    "    model.eval()\n",
    "    correct = 0\n",
    "    total = 0\n",
    "    with torch.no_grad():\n",
    "        for inputs, labels in val_loader:  # Use val_loader instead of test_loader\n",
    "            outputs = model(inputs)\n",
    "            _, predicted = torch.max(outputs, 1)\n",
    "            total += labels.size(0)\n",
    "            correct += (predicted == labels).sum().item()\n",
    "    \n",
    "    val_accuracy = 100 * correct / total\n",
    "    val_accuracies.append(val_accuracy)\n",
    "\n",
    "    print(f\"Epoch {epoch+1}/{epochs}, Loss: {epoch_loss:.4f}, Train Accuracy: {epoch_accuracy:.2f}%, Val Accuracy: {val_accuracy:.2f}%\")\n",
    "\n"
   ]
  },
  {
   "cell_type": "code",
   "execution_count": 32,
   "metadata": {},
   "outputs": [
    {
     "data": {
      "image/png": "[encoded data removed]",
      "text/plain": [
       "<Figure size 1200x600 with 2 Axes>"
      ]
     },
     "metadata": {},
     "output_type": "display_data"
    }
   ],
   "source": [
    "import matplotlib.pyplot as plt\n",
    "\n",
    "fig, (ax1, ax2) = plt.subplots(1, 2, figsize=(12, 6))\n",
    "\n",
    "# Plot for training and validation accuracies\n",
    "ax1.plot(train_accuracies, label='Train Accuracy')\n",
    "ax1.plot(val_accuracies, label='Validation Accuracy', linestyle='--')\n",
    "ax1.set_title('Accuracy Over Epochs')\n",
    "ax1.set_xlabel('Epochs')\n",
    "ax1.set_ylabel('Accuracy')\n",
    "ax1.legend()\n",
    "ax1.grid(True)\n",
    "\n",
    "# Plot for training losses\n",
    "ax2.plot(train_losses, label='Train Loss')\n",
    "ax2.set_title('Loss Over Epochs')\n",
    "ax2.set_xlabel('Epochs')\n",
    "ax2.set_ylabel('Loss')\n",
    "ax2.legend()\n",
    "ax2.grid(True)\n",
    "\n",
    "plt.tight_layout()\n",
    "plt.show()\n"
   ]
  },
  {
   "cell_type": "code",
   "execution_count": 33,
   "metadata": {},
   "outputs": [
    {
     "name": "stdout",
     "output_type": "stream",
     "text": [
      "Test Accuracy: 96.58%\n"
     ]
    }
   ],
   "source": [
    "model.eval()\n",
    "correct = 0\n",
    "total = 0\n",
    "y_pred = []\n",
    "y_true = []\n",
    "\n",
    "with torch.no_grad():\n",
    "    for inputs, labels in test_loader:\n",
    "        outputs = model(inputs)\n",
    "        _, predicted = torch.max(outputs, 1)\n",
    "        total += labels.size(0)\n",
    "        correct += (predicted == labels).sum().item()\n",
    "        y_pred.extend(predicted.tolist())\n",
    "        y_true.extend(labels.tolist())\n",
    "\n",
    "test_accuracy = 100 * correct / total\n",
    "print(f\"Test Accuracy: {test_accuracy:.2f}%\")\n"
   ]
  },
  {
   "cell_type": "markdown",
   "metadata": {},
   "source": [
    "test with single input as for inference"
   ]
  },
  {
   "cell_type": "code",
   "execution_count": 34,
   "metadata": {},
   "outputs": [
    {
     "name": "stdout",
     "output_type": "stream",
     "text": [
      "Single input after scaling: [[1.         1.         0.33333333 1.         1.         1.\n",
      "  1.         1.         0.33333333 0.         1.         1.\n",
      "  1.         1.         1.         1.         0.66666667 1.\n",
      "  0.66666667 0.66666667 0.         1.         1.         1.\n",
      "  1.         1.         1.         0.66666667 1.         0.33333333\n",
      "  1.         1.         0.33333333 0.66666667 1.         1.\n",
      "  0.         0.33333333 1.         0.66666667 1.         1.\n",
      "  0.         0.66666667 1.         1.         1.         1.\n",
      "  1.         0.66666667 0.         0.         0.33333333 1.\n",
      "  0.5        1.         0.         0.         0.15384615 0.        ]]\n",
      "Predicted class: 0\n"
     ]
    },
    {
     "name": "stderr",
     "output_type": "stream",
     "text": [
      "/home/brglt/Desktop/nillion/ETH-Online-mental-health/venv/lib/python3.12/site-packages/sklearn/base.py:493: UserWarning: X does not have valid feature names, but MinMaxScaler was fitted with feature names\n",
      "  warnings.warn(\n"
     ]
    }
   ],
   "source": [
    "import torch\n",
    "import pandas as pd\n",
    "from sklearn.preprocessing import MinMaxScaler\n",
    "\n",
    "def load_single_input():\n",
    "    # Step 1: Load the CSV file and select the first row for inference\n",
    "    csv_file_path = 'depression_dataset copy.csv'  # Update with your actual file path\n",
    "    data = pd.read_csv(csv_file_path)\n",
    "    \n",
    "    # Step 2: Process the data (drop 'target' and 'total_count' columns for inference)\n",
    "    features = data.drop(['target', 'total_count'], axis=1)  # Adjust this if you have a target column\n",
    "    single_input = features.values[0]  # Select the first row\n",
    "    \n",
    "    # Step 3: Preprocess the input (assuming you used MinMaxScaler during training)\n",
    "    scaler = MinMaxScaler()\n",
    "    # Fit scaler to the full dataset (assuming you're loading the full dataset)\n",
    "    scaler.fit(features)  # Use full dataset for fitting the scaler\n",
    "    scaled_input = scaler.transform([single_input])  # Scale the single input\n",
    "    print(\"Single input after scaling:\", scaled_input)\n",
    "\n",
    "    return scaled_input\n",
    "\n",
    "def run_inference(model):\n",
    "    # Step 4: Prepare the input for inference\n",
    "    scaled_input = load_single_input()\n",
    "\n",
    "    # Convert the input to a PyTorch tensor\n",
    "    input_tensor = torch.tensor(scaled_input, dtype=torch.float32)\n",
    "\n",
    "    # Step 5: Make the prediction using the trained model\n",
    "    model.eval()\n",
    "    with torch.no_grad():\n",
    "        outputs = model(input_tensor)  # Forward pass\n",
    "        _, predicted = torch.max(outputs, 1)  # Get the predicted class\n",
    "\n",
    "    print(f\"Predicted class: {predicted.item()}\")\n",
    "\n",
    "\n",
    "# Assuming 'model' is your trained PyTorch model, you can now run inference\n",
    "run_inference(model)\n"
   ]
  },
  {
   "cell_type": "code",
   "execution_count": 35,
   "metadata": {},
   "outputs": [
    {
     "name": "stdout",
     "output_type": "stream",
     "text": [
      "tensor([[  8.3223, -19.5409,  -0.7499, -39.0664,   7.8246]],\n",
      "       grad_fn=<AddmmBackward0>)\n"
     ]
    },
    {
     "data": {
      "text/plain": [
       "tensor([0])"
      ]
     },
     "execution_count": 35,
     "metadata": {},
     "output_type": "execute_result"
    }
   ],
   "source": [
    "\n",
    "outputs= model(test_loader.dataset[0][0].unsqueeze(0))\n",
    "print(outputs)\n",
    "torch.argmax(outputs, axis=1)"
   ]
  },
  {
   "cell_type": "code",
   "execution_count": 36,
   "metadata": {},
   "outputs": [
    {
     "name": "stdout",
     "output_type": "stream",
     "text": [
      "precision: 92.686%\n",
      "recall: 94.854%\n",
      "f1: 93.757%\n",
      "support: 855\n",
      "accuracy: 96.44051342897207\n"
     ]
    }
   ],
   "source": [
    "precision, recall, f1, support = precision_recall_fscore_support(y_true, y_pred)\n",
    "print(\"precision: {:.3f}%\".format(precision[1] * 100))\n",
    "print(\"recall: {:.3f}%\".format(recall[1] * 100))\n",
    "print(\"f1: {:.3f}%\".format(f1[1] * 100))\n",
    "print(\"support: {}\".format(support[1]))\n",
    "print(\"accuracy: {}\".format(epoch_accuracy)) # TODO check"
   ]
  },
  {
   "cell_type": "code",
   "execution_count": 37,
   "metadata": {},
   "outputs": [
    {
     "data": {
      "text/plain": [
       "<sklearn.metrics._plot.confusion_matrix.ConfusionMatrixDisplay at 0x778f21d3fc50>"
      ]
     },
     "execution_count": 37,
     "metadata": {},
     "output_type": "execute_result"
    },
    {
     "data": {
      "image/png": "[encoded data removed]",
      "text/plain": [
       "<Figure size 640x480 with 2 Axes>"
      ]
     },
     "metadata": {},
     "output_type": "display_data"
    }
   ],
   "source": [
    "disp = ConfusionMatrixDisplay(confusion_matrix(y_true, y_pred), )\n",
    "disp.plot()"
   ]
  },
  {
   "cell_type": "markdown",
   "metadata": {},
   "source": [
    "## Model Provider flow"
   ]
  },
  {
   "cell_type": "markdown",
   "metadata": {},
   "source": [
    "# Authenticate with Nillion"
   ]
  },
  {
   "cell_type": "markdown",
   "metadata": {},
   "source": [
    "To connect to the Nillion network, we need to have a user key and a node key. These serve different purposes:\n",
    "\n",
    "The `user_key` is the user's private key. The user key should never be shared publicly, as it unlocks access and permissions to secrets stored on the network.\n",
    "\n",
    "The `node_key` is the node's private key which is run locally to connect to the network."
   ]
  },
  {
   "cell_type": "code",
   "execution_count": 38,
   "metadata": {},
   "outputs": [
    {
     "data": {
      "text/plain": [
       "'/home/brglt/Desktop/nillion/ETH-Online-mental-health/nada_project'"
      ]
     },
     "execution_count": 38,
     "metadata": {},
     "output_type": "execute_result"
    }
   ],
   "source": [
    "os.getcwd()"
   ]
  },
  {
   "cell_type": "code",
   "execution_count": 39,
   "metadata": {},
   "outputs": [
    {
     "name": "stdout",
     "output_type": "stream",
     "text": [
      "b13880d3-dde8-4a75-a171-8a1a9d985e6c\n",
      "b13880d3-dde8-4a75-a171-8a1a9d985e6c\n"
     ]
    }
   ],
   "source": [
    "# Load all Nillion network environment variables\n",
    "os.getcwd()\n",
    "assert os.getcwd().endswith(\n",
    "    \"nada_project\"\n",
    "), \"Please run this script from the examples/multi_layer_perceptron directory otherwise, the rest of the tutorial may not work\"\n",
    "load_dotenv()\n",
    "print(os.getenv(\"NILLION_CLUSTER_ID\"))\n",
    "dotenv_path = '/home/brglt/Desktop/nillion/ETH-Online-mental-health/nada_project/.env'\n",
    "load_dotenv(dotenv_path)\n",
    "print(os.getenv(\"NILLION_CLUSTER_ID\"))"
   ]
  },
  {
   "cell_type": "code",
   "execution_count": 40,
   "metadata": {},
   "outputs": [
    {
     "name": "stdout",
     "output_type": "stream",
     "text": [
      "b13880d3-dde8-4a75-a171-8a1a9d985e6c\n"
     ]
    }
   ],
   "source": [
    "print(os.getenv(\"NILLION_CLUSTER_ID\"))"
   ]
  },
  {
   "cell_type": "code",
   "execution_count": 41,
   "metadata": {},
   "outputs": [
    {
     "name": "stdout",
     "output_type": "stream",
     "text": [
      "75634f5625d535c2aea9580795ef617d85c7924ec8509dac806ddd4008773243\n"
     ]
    }
   ],
   "source": [
    "print(os.getenv(\"NILLION_NILCHAIN_PRIVATE_KEY_0\"))"
   ]
  },
  {
   "cell_type": "code",
   "execution_count": 42,
   "metadata": {},
   "outputs": [
    {
     "data": {
      "text/plain": [
       "'12D3KooWBdJf83h24mkBhbKvRyU8h2zNZnCnkfWdrh4Q7MVBw77g'"
      ]
     },
     "execution_count": 42,
     "metadata": {},
     "output_type": "execute_result"
    }
   ],
   "source": [
    "cluster_id = os.getenv(\"NILLION_CLUSTER_ID\")\n",
    "grpc_endpoint = os.getenv(\"NILLION_NILCHAIN_GRPC\")\n",
    "chain_id = os.getenv(\"NILLION_NILCHAIN_CHAIN_ID\")\n",
    "import random\n",
    "\n",
    "\n",
    "# seed = str(random.randint(1, 1000))\n",
    "seed = str(random.randint(1, 1000))\n",
    "model_provider_userkey = UserKey.from_seed((seed))\n",
    "model_provider_nodekey = NodeKey.from_seed((seed))\n",
    "model_provider_client = create_nillion_client(model_provider_userkey, model_provider_nodekey)\n",
    "model_provider_party_id = model_provider_client.party_id\n",
    "model_provider_user_id = model_provider_client.user_id\n",
    "model_provider_party_id"
   ]
  },
  {
   "cell_type": "code",
   "execution_count": 1,
   "metadata": {},
   "outputs": [],
   "source": [
    "!pynadac /home/brglt/Desktop/nillion/ETH-Online-mental-health/nada_project/src/mental_main.py"
   ]
  },
  {
   "cell_type": "code",
   "execution_count": 44,
   "metadata": {},
   "outputs": [
    {
     "name": "stdout",
     "output_type": "stream",
     "text": [
      "CHROME_DESKTOP: code-url-handler.desktop\n",
      "DBUS_SESSION_BUS_ADDRESS: unix:path=/run/user/1000/bus\n",
      "DEBUGINFOD_URLS: https://debuginfod.ubuntu.com \n",
      "DESKTOP_SESSION: ubuntu\n",
      "DISPLAY: :1\n",
      "GDK_BACKEND: x11\n",
      "GDMSESSION: ubuntu\n",
      "GIO_LAUNCHED_DESKTOP_FILE: /usr/share/applications/code.desktop\n",
      "GIO_LAUNCHED_DESKTOP_FILE_PID: 3649\n",
      "GJS_DEBUG_OUTPUT: stderr\n",
      "GJS_DEBUG_TOPICS: JS ERROR;JS LOG\n",
      "GNOME_DESKTOP_SESSION_ID: this-is-deprecated\n",
      "GNOME_SHELL_SESSION_MODE: ubuntu\n",
      "GPG_AGENT_INFO: /run/user/1000/gnupg/S.gpg-agent:0:1\n",
      "GSM_SKIP_SSH_AGENT_WORKAROUND: true\n",
      "GTK_MODULES: gail:atk-bridge\n",
      "HOME: /home/brglt\n",
      "INVOCATION_ID: 896c15e013e946ed9eb0d2d2d41003fb\n",
      "JOURNAL_STREAM: 8:15090\n",
      "LANG: en_US.UTF-8\n",
      "LESSCLOSE: /usr/bin/lesspipe %s %s\n",
      "LESSOPEN: | /usr/bin/lesspipe %s\n",
      "LOGNAME: brglt\n",
      "MANAGERPID: 2317\n",
      "MEMORY_PRESSURE_WATCH: /sys/fs/cgroup/user.slice/user-1000.slice/user@1000.service/session.slice/org.gnome.Shell@x11.service/memory.pressure\n",
      "MEMORY_PRESSURE_WRITE: c29tZSAyMDAwMDAgMjAwMDAwMAA=\n",
      "ORIGINAL_XDG_CURRENT_DESKTOP: ubuntu:GNOME\n",
      "PATH: /home/brglt/Desktop/nillion/ETH-Online-mental-health/venv/bin:/usr/local/sbin:/usr/local/bin:/usr/sbin:/usr/bin:/sbin:/bin:/usr/games:/usr/local/games:/snap/bin:/snap/bin:/home/brglt/.nilup/bin\n",
      "PWD: /home/brglt\n",
      "QT_ACCESSIBILITY: 1\n",
      "QT_IM_MODULE: ibus\n",
      "SESSION_MANAGER: local/Brglt-OMEN:@/tmp/.ICE-unix/2746,unix/Brglt-OMEN:/tmp/.ICE-unix/2746\n",
      "SHELL: /bin/bash\n",
      "SHLVL: 0\n",
      "SSH_AUTH_SOCK: /run/user/1000/keyring/ssh\n",
      "SYSTEMD_EXEC_PID: 2789\n",
      "USER: brglt\n",
      "USERNAME: brglt\n",
      "VSCODE_AMD_ENTRYPOINT: vs/workbench/api/node/extensionHostProcess\n",
      "VSCODE_CODE_CACHE_PATH: /home/brglt/.config/Code/CachedData/fee1edb8d6d72a0ddff41e5f71a671c23ed924b9\n",
      "VSCODE_CRASH_REPORTER_PROCESS_TYPE: extensionHost\n",
      "VSCODE_CWD: /home/brglt\n",
      "VSCODE_HANDLES_UNCAUGHT_ERRORS: true\n",
      "VSCODE_IPC_HOOK: /run/user/1000/vscode-ab7fecbf-1.92-main.sock\n",
      "VSCODE_NLS_CONFIG: {\"userLocale\":\"en-us\",\"osLocale\":\"en-us\",\"resolvedLanguage\":\"en\",\"defaultMessagesFile\":\"/usr/share/code/resources/app/out/nls.messages.json\",\"locale\":\"en\",\"availableLanguages\":{}}\n",
      "VSCODE_PID: 3649\n",
      "WINDOWPATH: 2\n",
      "XAUTHORITY: /run/user/1000/gdm/Xauthority\n",
      "XDG_CONFIG_DIRS: /etc/xdg/xdg-ubuntu:/etc/xdg\n",
      "XDG_CURRENT_DESKTOP: Unity\n",
      "XDG_DATA_DIRS: /usr/share/ubuntu:/usr/share/gnome:/usr/local/share/:/usr/share/:/var/lib/snapd/desktop\n",
      "XDG_MENU_PREFIX: gnome-\n",
      "XDG_RUNTIME_DIR: /run/user/1000\n",
      "XDG_SESSION_CLASS: user\n",
      "XDG_SESSION_DESKTOP: ubuntu\n",
      "XDG_SESSION_TYPE: x11\n",
      "XMODIFIERS: @im=ibus\n",
      "_: /home/brglt/Desktop/nillion/ETH-Online-mental-health/venv/bin/python\n",
      "ELECTRON_RUN_AS_NODE: 1\n",
      "APPLICATION_INSIGHTS_NO_DIAGNOSTIC_CHANNEL: 1\n",
      "VSCODE_L10N_BUNDLE_LOCATION: \n",
      "PYTHONUNBUFFERED: 1\n",
      "VIRTUAL_ENV: /home/brglt/Desktop/nillion/ETH-Online-mental-health/venv\n",
      "PYTHONIOENCODING: utf-8\n",
      "VIRTUAL_ENV_PROMPT: (venv) \n",
      "PS1: (venv) \n",
      "PYDEVD_IPYTHON_COMPATIBLE_DEBUGGING: 1\n",
      "PYTHON_FROZEN_MODULES: on\n",
      "PYDEVD_USE_FRAME_EVAL: NO\n",
      "TERM: xterm-color\n",
      "CLICOLOR: 1\n",
      "FORCE_COLOR: 1\n",
      "CLICOLOR_FORCE: 1\n",
      "PAGER: cat\n",
      "GIT_PAGER: cat\n",
      "MPLBACKEND: module://matplotlib_inline.backend_inline\n",
      "KMP_DUPLICATE_LIB_OK: True\n",
      "KMP_INIT_AT_FORK: FALSE\n",
      "REACT_APP_API_BASE_PATH: /nilchain-proxy\n",
      "NILLION_CLUSTER_ID: b13880d3-dde8-4a75-a171-8a1a9d985e6c\n",
      "NILLION_BOOTNODE_MULTIADDRESS: /dns/node-1.testnet-photon.nillion-network.nilogy.xyz/tcp/14111/p2p/12D3KooWCfFYAb77NCjEk711e9BVe2E6mrasPZTtAjJAPtVAdbye\n",
      "NILLION_BOOTNODE_WEBSOCKET: /dns/node-1.testnet-photon.nillion-network.nilogy.xyz/tcp/14211/wss/p2p/12D3KooWCfFYAb77NCjEk711e9BVe2E6mrasPZTtAjJAPtVAdbye\n",
      "NILLION_NILCHAIN_CHAIN_ID: nillion-chain-testnet-1\n",
      "NILLION_NILCHAIN_JSON_RPC: http://65.109.222.111:26657\n",
      "NILLION_NILCHAIN_REST_API: http://65.109.222.111:26657\n",
      "NILLION_NILCHAIN_GRPC: 65.109.228.73:9090\n",
      "NILLION_NILCHAIN_PRIVATE_KEY_0: 75634f5625d535c2aea9580795ef617d85c7924ec8509dac806ddd4008773243\n"
     ]
    }
   ],
   "source": [
    "env_vars = {key: os.getenv(key) for key in os.environ.keys()}\n",
    "\n",
    "# Print the environment variables\n",
    "for key, value in env_vars.items():\n",
    "    print(f'{key}: {value}')"
   ]
  },
  {
   "cell_type": "code",
   "execution_count": 45,
   "metadata": {},
   "outputs": [
    {
     "data": {
      "text/plain": [
       "('b13880d3-dde8-4a75-a171-8a1a9d985e6c',\n",
       " '65.109.228.73:9090',\n",
       " 'nillion-chain-testnet-1',\n",
       " '12D3KooWBdJf83h24mkBhbKvRyU8h2zNZnCnkfWdrh4Q7MVBw77g')"
      ]
     },
     "execution_count": 45,
     "metadata": {},
     "output_type": "execute_result"
    }
   ],
   "source": [
    "cluster_id, grpc_endpoint, chain_id, model_provider_party_id"
   ]
  },
  {
   "cell_type": "code",
   "execution_count": 46,
   "metadata": {},
   "outputs": [],
   "source": [
    "party_names = [\"Provider\", \"User\"]\n",
    "program_name = \"mental_main\"\n",
    "program_mir_path = f\"{program_name}.nada.bin\""
   ]
  },
  {
   "cell_type": "code",
   "execution_count": 47,
   "metadata": {},
   "outputs": [],
   "source": [
    "payments_config = create_payments_config(chain_id, grpc_endpoint)\n",
    "payments_client = LedgerClient(payments_config)\n",
    "payments_wallet = LocalWallet(\n",
    "    PrivateKey(bytes.fromhex(os.getenv(\"NILLION_NILCHAIN_PRIVATE_KEY_0\"))),\n",
    "    prefix=\"nillion\",\n",
    ")"
   ]
  },
  {
   "cell_type": "code",
   "execution_count": 48,
   "metadata": {},
   "outputs": [
    {
     "name": "stdout",
     "output_type": "stream",
     "text": [
      "Getting quote for operation...\n",
      "Submitting payment receipt 2 unil, tx hash FC9F466F2ED93698D38DE8814F28AF60506C970A68085F4D65650F137121CEFE\n",
      "Stored program. action_id: 5u5hYMBa1VjozL74efbc91NiQE12MaLccKuBy5abYZ4uz3p4JHCJYW6XLQzvkD1N5NVm3ntmxf76UNzD9VLcVc7u/mental_main\n",
      "Stored program_id: 5u5hYMBa1VjozL74efbc91NiQE12MaLccKuBy5abYZ4uz3p4JHCJYW6XLQzvkD1N5NVm3ntmxf76UNzD9VLcVc7u/mental_main\n"
     ]
    }
   ],
   "source": [
    "program_id = await store_program(\n",
    "    model_provider_client,\n",
    "    payments_wallet,\n",
    "    payments_client,\n",
    "    model_provider_user_id,\n",
    "    cluster_id,\n",
    "    program_name,\n",
    "    program_mir_path,)"
   ]
  },
  {
   "cell_type": "code",
   "execution_count": 49,
   "metadata": {},
   "outputs": [],
   "source": [
    "model_client = TorchClient(model)"
   ]
  },
  {
   "cell_type": "code",
   "execution_count": 53,
   "metadata": {},
   "outputs": [
    {
     "name": "stdout",
     "output_type": "stream",
     "text": [
      "Getting quote for operation...\n",
      "Quote cost is 255458 unil\n",
      "Submitting payment receipt 255458 unil, tx hash B8C652EB6CFAB2984B2284EFB3DEF491B3864AE9FE0DE7DFC81FA00AA5BCC09F\n"
     ]
    }
   ],
   "source": [
    "model_secrets = nillion.NadaValues(\n",
    "    model_client.export_state_as_secrets(\"mental_health_nn\", na.SecretRational)\n",
    ")\n",
    "permissions = nillion.Permissions.default_for_user(model_provider_client.user_id)\n",
    "permissions.add_compute_permissions({model_provider_client.user_id: {program_id}})\n",
    "\n",
    "model_store_id = await store_secrets(\n",
    "    model_provider_client,\n",
    "    payments_wallet,\n",
    "    payments_client,\n",
    "    cluster_id,\n",
    "    model_secrets,\n",
    "    1,\n",
    "    permissions,\n",
    ")"
   ]
  },
  {
   "cell_type": "code",
   "execution_count": 54,
   "metadata": {},
   "outputs": [],
   "source": [
    "# This information is needed by the model user\n",
    "with open(\"src/data/tmp.json\", \"w\") as provider_variables_file:\n",
    "    provider_variables = {\n",
    "        \"program_id\": program_id,\n",
    "        \"model_store_id\": model_store_id,\n",
    "        \"model_provider_party_id\": model_provider_party_id,\n",
    "    }\n",
    "    json.dump(provider_variables, provider_variables_file)"
   ]
  },
  {
   "cell_type": "code",
   "execution_count": 55,
   "metadata": {},
   "outputs": [],
   "source": [
    "torch.save(model.state_dict(), \"src/data/my_model.pt\")"
   ]
  },
  {
   "cell_type": "code",
   "execution_count": null,
   "metadata": {},
   "outputs": [],
   "source": []
  }
 ],
 "metadata": {
  "kernelspec": {
   "display_name": "venv",
   "language": "python",
   "name": "python3"
  },
  "language_info": {
   "codemirror_mode": {
    "name": "ipython",
    "version": 3
   },
   "file_extension": ".py",
   "mimetype": "text/x-python",
   "name": "python",
   "nbconvert_exporter": "python",
   "pygments_lexer": "ipython3",
   "version": "3.12.3"
  }
 },
 "nbformat": 4,
 "nbformat_minor": 2
}
