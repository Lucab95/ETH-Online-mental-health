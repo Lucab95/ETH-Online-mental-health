{
 "cells": [
  {
   "cell_type": "code",
   "execution_count": 1,
   "metadata": {},
   "outputs": [],
   "source": [
    "# # this is useful if you get libray incompatibility errors with the Nillion SDK.\n",
    "\n",
    "# # #chanege to your GitHub username\n",
    "# # github_username = \"your-github-username\"\n",
    "\n",
    "# # # do not change this\n",
    "# # forked_repo_name = \"nillion-python-starter\"\n",
    "\n",
    "# # # we need this when we push your commits to GitHub at the end\n",
    "# # email = \"your-github-email\"\n",
    "# # github_token = \"your-github-token\"\n",
    "\n",
    "# # change this to be your ETH address, or something else that is unique to you\n",
    "# my_identifier = \"your-telemetry-identifier\"\n",
    "# # install the Nillion python libraries we will need\n",
    "# !pip install nada-dsl\n",
    "# !pip install py_nillion_client\n",
    "# !pip install nillion-python-helpers\n",
    "# !pip install cosmpy==0.9.2\n",
    "# !pip install python-dotenv\n",
    "\n",
    "# # import some more Python libraries\n",
    "# import os\n",
    "# import time\n",
    "\n",
    "# # Install the nilup tool and then use that to install the Nillion SDK\n",
    "# !curl https://nilup.nilogy.xyz/install.sh | bash\n",
    "# !export PATH=$PATH:/root/.nilup/bin\n",
    "\n",
    "# # identifier = \"HH_GOA-\" + my_identifier\n",
    "\n",
    "# # Enable telemetry using the identifier you have set above\n",
    "# !echo 'yes' | /root/.nilup/bin/nilup instrumentation enable --wallet {identifier}\n",
    "\n",
    "# # install the lastest SDK and initialise it\n",
    "\n",
    "# !nilup init\n",
    "# !nilup install latest --nada-dsl --python-client\n",
    "# !nilup use latest\n",
    "# !pip install torch\n",
    "# !pip install torchvision\n",
    "# !pip install nada_ai\n",
    "# !pip install nada_numpy"
   ]
  },
  {
   "cell_type": "code",
   "execution_count": 2,
   "metadata": {},
   "outputs": [
    {
     "name": "stdout",
     "output_type": "stream",
     "text": [
      "/home/brglt/Desktop/nillion/ETH-Online-mental-health\n"
     ]
    },
    {
     "name": "stderr",
     "output_type": "stream",
     "text": [
      "/home/brglt/Desktop/nillion/ETH-Online-mental-health/venv/lib/python3.12/site-packages/tqdm/auto.py:21: TqdmWarning: IProgress not found. Please update jupyter and ipywidgets. See https://ipywidgets.readthedocs.io/en/stable/user_install.html\n",
      "  from .autonotebook import tqdm as notebook_tqdm\n",
      "Importing plotly failed. Interactive plots will not work.\n"
     ]
    },
    {
     "name": "stdout",
     "output_type": "stream",
     "text": [
      "/home/brglt/.config/nillion/nillion-devnet.env\n"
     ]
    }
   ],
   "source": [
    "import os\n",
    "import sys\n",
    "\n",
    "sys.path.append(os.path.abspath(os.path.join(os.getcwd(), os.pardir)))\n",
    "print(os.path.abspath(os.path.join(os.getcwd(), os.pardir)))\n",
    "import json\n",
    "import nada_numpy as na\n",
    "import numpy as np\n",
    "import py_nillion_client as nillion\n",
    "import torch\n",
    "from common.utils import store_program, store_secrets\n",
    "from cosmpy.aerial.client import LedgerClient\n",
    "from cosmpy.aerial.wallet import LocalWallet\n",
    "from cosmpy.crypto.keypairs import PrivateKey\n",
    "from dotenv import load_dotenv\n",
    "from nada_ai.client import TorchClient\n",
    "from nillion_python_helpers import (create_nillion_client,\n",
    "                                    create_payments_config)\n",
    "from py_nillion_client import NodeKey, UserKey\n",
    "\n",
    "from torch import nn\n",
    "from torchvision import transforms\n",
    "from sklearn.metrics import (\n",
    "    confusion_matrix,\n",
    "    ConfusionMatrixDisplay,\n",
    "    precision_recall_fscore_support,\n",
    ")\n",
    "import matplotlib.pyplot as plt\n",
    "from PIL import Image\n",
    "import numpy as np\n",
    "import pandas as pd\n",
    "home = os.getenv(\"HOME\")\n",
    "load_dotenv(\"nada_project/.env\")\n",
    "print((f\"{home}/.config/nillion/nillion-devnet.env\"))"
   ]
  },
  {
   "cell_type": "markdown",
   "metadata": {},
   "source": [
    "Dataset"
   ]
  },
  {
   "cell_type": "code",
   "execution_count": 3,
   "metadata": {},
   "outputs": [],
   "source": [
    "import torch\n",
    "from torch.utils.data import Dataset\n",
    "import os\n",
    "from sklearn.preprocessing import MinMaxScaler, LabelEncoder\n",
    "\n",
    "class MentalHealthDataset(Dataset):\n",
    "    def __init__(self, dataframe: pd.DataFrame, transform=None):\n",
    "        self.data = dataframe.drop(['target', 'total_count'], axis=1)\n",
    "        self.targets = dataframe['target']\n",
    "        \n",
    "        self.label_encoder = LabelEncoder()\n",
    "        self.targets = self.label_encoder.fit_transform(self.targets)\n",
    "        \n",
    "        self.scaler = MinMaxScaler()\n",
    "        self.data = self.scaler.fit_transform(self.data)\n",
    "\n",
    "        self.transform = transform\n",
    "\n",
    "    def __len__(self):\n",
    "        return len(self.data)\n",
    "\n",
    "    def __getitem__(self, index):\n",
    "        features = torch.tensor(self.data[index], dtype=torch.float32)\n",
    "        label = torch.tensor(self.targets[index], dtype=torch.long)\n",
    "        \n",
    "        if self.transform:\n",
    "            features = self.transform(features)\n",
    "        \n",
    "        return features, label\n"
   ]
  },
  {
   "cell_type": "markdown",
   "metadata": {},
   "source": [
    "Network"
   ]
  },
  {
   "cell_type": "code",
   "execution_count": 4,
   "metadata": {},
   "outputs": [],
   "source": [
    "import torch.nn as nn\n",
    "import nada_numpy as na  # Assuming na.NadaArray usage is required by the NADA environment\n",
    "\n",
    "class MentalHealthNN(nn.Module):\n",
    "    def __init__(self, input_size, num_classes):\n",
    "        super(MentalHealthNN, self).__init__()\n",
    "        self.fc1 = nn.Linear(input_size, 32)  # First fully connected layer\n",
    "        self.fc2 = nn.Linear(32, 16)          # Second fully connected layer\n",
    "        self.fc3 = nn.Linear(16, 8)          # Third fully connected layer\n",
    "        self.fc4 = nn.Linear(8, num_classes) # Output layer\n",
    "        self.relu = nn.ReLU()\n",
    "\n",
    "    def forward(self, x: na.NadaArray) -> na.NadaArray:\n",
    "        x = self.relu(self.fc1(x))\n",
    "        x = self.relu(self.fc2(x))\n",
    "        x = self.relu(self.fc3(x))\n",
    "        x = self.fc4(x)\n",
    "        return x\n"
   ]
  },
  {
   "cell_type": "markdown",
   "metadata": {},
   "source": [
    "Prepare the data"
   ]
  },
  {
   "cell_type": "code",
   "execution_count": 5,
   "metadata": {},
   "outputs": [
    {
     "name": "stdout",
     "output_type": "stream",
     "text": [
      "Shape of the input data: torch.Size([32, 60])\n",
      "tensor([[0.3333, 0.0000, 0.0000,  ..., 0.0000, 0.1538, 0.5000],\n",
      "        [0.3333, 0.0000, 0.0000,  ..., 0.0000, 0.3077, 0.5000],\n",
      "        [1.0000, 0.0000, 0.0000,  ..., 0.0000, 0.3077, 0.2500],\n",
      "        ...,\n",
      "        [1.0000, 0.3333, 1.0000,  ..., 0.0000, 0.2308, 0.2500],\n",
      "        [0.3333, 0.3333, 0.0000,  ..., 0.0000, 0.1538, 0.0000],\n",
      "        [0.0000, 0.0000, 0.0000,  ..., 0.0000, 0.0769, 0.2500]])\n",
      "Corresponding labels:\n",
      "tensor([3, 3, 2, 1, 2, 0, 1, 4, 3, 1, 4, 0, 2, 1, 0, 3, 2, 1, 2, 1, 2, 4, 4, 4,\n",
      "        4, 3, 4, 2, 4, 0, 2, 3])\n"
     ]
    },
    {
     "ename": "ZeroDivisionError",
     "evalue": "division by zero",
     "output_type": "error",
     "traceback": [
      "\u001b[0;31m---------------------------------------------------------------------------\u001b[0m",
      "\u001b[0;31mZeroDivisionError\u001b[0m                         Traceback (most recent call last)",
      "Cell \u001b[0;32mIn[5], line 57\u001b[0m\n\u001b[1;32m     54\u001b[0m     correct \u001b[38;5;241m+\u001b[39m\u001b[38;5;241m=\u001b[39m (predicted \u001b[38;5;241m==\u001b[39m labels)\u001b[38;5;241m.\u001b[39msum()\u001b[38;5;241m.\u001b[39mitem()\n\u001b[1;32m     56\u001b[0m epoch_loss \u001b[38;5;241m=\u001b[39m running_loss \u001b[38;5;241m/\u001b[39m \u001b[38;5;28mlen\u001b[39m(train_loader)\n\u001b[0;32m---> 57\u001b[0m epoch_accuracy \u001b[38;5;241m=\u001b[39m \u001b[38;5;241;43m100\u001b[39;49m\u001b[43m \u001b[49m\u001b[38;5;241;43m*\u001b[39;49m\u001b[43m \u001b[49m\u001b[43mcorrect\u001b[49m\u001b[43m \u001b[49m\u001b[38;5;241;43m/\u001b[39;49m\u001b[43m \u001b[49m\u001b[43mtotal\u001b[49m\n\u001b[1;32m     58\u001b[0m train_losses\u001b[38;5;241m.\u001b[39mappend(epoch_loss)\n\u001b[1;32m     59\u001b[0m train_accuracies\u001b[38;5;241m.\u001b[39mappend(epoch_accuracy)\n",
      "\u001b[0;31mZeroDivisionError\u001b[0m: division by zero"
     ]
    }
   ],
   "source": [
    "# Load your dataset\n",
    "depression = pd.read_csv('depression_dataset.csv')\n",
    "\n",
    "# Initialize dataset\n",
    "dataset = MentalHealthDataset(depression)\n",
    "\n",
    "# Split into train and test sets\n",
    "train_size = int(0.7 * len(dataset))\n",
    "val_size = int(0.15 * len(dataset))\n",
    "test_size = len(dataset) - train_size - val_size\n",
    "\n",
    "train_dataset, val_dataset, test_dataset = torch.utils.data.random_split(dataset, [train_size, val_size, test_size])\n",
    "\n",
    "# Create data loaders\n",
    "train_loader = torch.utils.data.DataLoader(train_dataset, batch_size=32, shuffle=True)\n",
    "val_loader = torch.utils.data.DataLoader(val_dataset, batch_size=32, shuffle=False)\n",
    "test_loader = torch.utils.data.DataLoader(test_dataset, batch_size=32, shuffle=False)\n",
    "\n",
    "\n",
    "# Initialize model, loss function, and optimizer\n",
    "input_size = dataset.data.shape[1]\n",
    "num_classes = len(dataset.label_encoder.classes_)\n",
    "model = MentalHealthNN(input_size, num_classes)\n",
    "\n",
    "criterion = nn.CrossEntropyLoss()\n",
    "optimizer = torch.optim.AdamW(model.parameters(), lr=1e-4)\n",
    "\n",
    "train_accuracies = []\n",
    "val_accuracies = []\n",
    "train_losses = []\n",
    "\n",
    "epochs = 20\n",
    "for epoch in range(epochs):\n",
    "    model.train()\n",
    "    running_loss = 0.0\n",
    "    correct = 0\n",
    "    total = 0\n",
    "    for i, (inputs, labels) in enumerate(train_loader):\n",
    "        if epoch == 0 and i == 0:  # Only print once, in the first batch of the first epoch\n",
    "            print(f\"Shape of the input data: {inputs.shape}\")\n",
    "        optimizer.zero_grad()\n",
    "        outputs = model(inputs)\n",
    "        loss = criterion(outputs, labels)\n",
    "        loss.backward()\n",
    "        optimizer.step()\n",
    "\n",
    "        running_loss += loss.item()\n",
    "        _, predicted = torch.max(outputs, 1)\n",
    "        total += labels.size(0)\n",
    "        correct += (predicted == labels).sum().item()\n",
    "    \n",
    "    epoch_loss = running_loss / len(train_loader)\n",
    "    epoch_accuracy = 100 * correct / total\n",
    "    train_losses.append(epoch_loss)\n",
    "    train_accuracies.append(epoch_accuracy)\n",
    "\n",
    "    # Validation phase\n",
    "    model.eval()\n",
    "    correct = 0\n",
    "    total = 0\n",
    "    with torch.no_grad():\n",
    "        for inputs, labels in val_loader:  # Use val_loader instead of test_loader\n",
    "            outputs = model(inputs)\n",
    "            _, predicted = torch.max(outputs, 1)\n",
    "            total += labels.size(0)\n",
    "            correct += (predicted == labels).sum().item()\n",
    "    \n",
    "    val_accuracy = 100 * correct / total\n",
    "    val_accuracies.append(val_accuracy)\n",
    "\n",
    "    print(f\"Epoch {epoch+1}/{epochs}, Loss: {epoch_loss:.4f}, Train Accuracy: {epoch_accuracy:.2f}%, Val Accuracy: {val_accuracy:.2f}%\")\n",
    "\n"
   ]
  },
  {
   "cell_type": "code",
   "execution_count": null,
   "metadata": {},
   "outputs": [
    {
     "data": {
      "image/png": "[encoded data removed]",
      "text/plain": [
       "<Figure size 1200x600 with 2 Axes>"
      ]
     },
     "metadata": {},
     "output_type": "display_data"
    }
   ],
   "source": [
    "import matplotlib.pyplot as plt\n",
    "\n",
    "fig, (ax1, ax2) = plt.subplots(1, 2, figsize=(12, 6))\n",
    "\n",
    "# Plot for training and validation accuracies\n",
    "ax1.plot(train_accuracies, label='Train Accuracy')\n",
    "ax1.plot(val_accuracies, label='Validation Accuracy', linestyle='--')\n",
    "ax1.set_title('Accuracy Over Epochs')\n",
    "ax1.set_xlabel('Epochs')\n",
    "ax1.set_ylabel('Accuracy')\n",
    "ax1.legend()\n",
    "ax1.grid(True)\n",
    "\n",
    "# Plot for training losses\n",
    "ax2.plot(train_losses, label='Train Loss')\n",
    "ax2.set_title('Loss Over Epochs')\n",
    "ax2.set_xlabel('Epochs')\n",
    "ax2.set_ylabel('Loss')\n",
    "ax2.legend()\n",
    "ax2.grid(True)\n",
    "\n",
    "plt.tight_layout()\n",
    "plt.show()\n"
   ]
  },
  {
   "cell_type": "code",
   "execution_count": null,
   "metadata": {},
   "outputs": [
    {
     "name": "stdout",
     "output_type": "stream",
     "text": [
      "Test Accuracy: 95.91%\n"
     ]
    }
   ],
   "source": [
    "model.eval()\n",
    "correct = 0\n",
    "total = 0\n",
    "y_pred = []\n",
    "y_true = []\n",
    "\n",
    "with torch.no_grad():\n",
    "    for inputs, labels in test_loader:\n",
    "        outputs = model(inputs)\n",
    "        _, predicted = torch.max(outputs, 1)\n",
    "        total += labels.size(0)\n",
    "        correct += (predicted == labels).sum().item()\n",
    "        y_pred.extend(predicted.tolist())\n",
    "        y_true.extend(labels.tolist())\n",
    "\n",
    "test_accuracy = 100 * correct / total\n",
    "print(f\"Test Accuracy: {test_accuracy:.2f}%\")\n"
   ]
  },
  {
   "cell_type": "markdown",
   "metadata": {},
   "source": [
    "test with single input as for inference"
   ]
  },
  {
   "cell_type": "code",
   "execution_count": null,
   "metadata": {},
   "outputs": [
    {
     "name": "stdout",
     "output_type": "stream",
     "text": [
      "Single input after scaling: [[1.         1.         0.33333333 1.         1.         1.\n",
      "  1.         1.         0.33333333 0.         1.         1.\n",
      "  1.         1.         1.         1.         0.66666667 1.\n",
      "  0.66666667 0.66666667 0.         1.         1.         1.\n",
      "  1.         1.         1.         0.66666667 1.         0.33333333\n",
      "  1.         1.         0.33333333 0.66666667 1.         1.\n",
      "  0.         0.33333333 1.         0.66666667 1.         1.\n",
      "  0.         0.66666667 1.         1.         1.         1.\n",
      "  1.         0.66666667 0.         0.         0.33333333 1.\n",
      "  0.5        1.         0.         0.         0.15384615 0.        ]]\n",
      "Predicted class: 2\n"
     ]
    },
    {
     "name": "stderr",
     "output_type": "stream",
     "text": [
      "/home/brglt/Desktop/nillion/ETH-Online-mental-health/venv/lib/python3.12/site-packages/sklearn/base.py:493: UserWarning: X does not have valid feature names, but MinMaxScaler was fitted with feature names\n",
      "  warnings.warn(\n"
     ]
    }
   ],
   "source": [
    "import torch\n",
    "import pandas as pd\n",
    "from sklearn.preprocessing import MinMaxScaler\n",
    "\n",
    "def load_single_input():\n",
    "    # Step 1: Load the CSV file and select the first row for inference\n",
    "    csv_file_path = 'depression_dataset copy.csv'  # Update with your actual file path\n",
    "    data = pd.read_csv(csv_file_path)\n",
    "    \n",
    "    # Step 2: Process the data (drop 'target' and 'total_count' columns for inference)\n",
    "    features = data.drop(['target', 'total_count'], axis=1)  # Adjust this if you have a target column\n",
    "    single_input = features.values[0]  # Select the first row\n",
    "    \n",
    "    # Step 3: Preprocess the input (assuming you used MinMaxScaler during training)\n",
    "    scaler = MinMaxScaler()\n",
    "    # Fit scaler to the full dataset (assuming you're loading the full dataset)\n",
    "    scaler.fit(features)  # Use full dataset for fitting the scaler\n",
    "    scaled_input = scaler.transform([single_input])  # Scale the single input\n",
    "    print(\"Single input after scaling:\", scaled_input)\n",
    "\n",
    "    return scaled_input\n",
    "\n",
    "def run_inference(model):\n",
    "    # Step 4: Prepare the input for inference\n",
    "    scaled_input = load_single_input()\n",
    "\n",
    "    # Convert the input to a PyTorch tensor\n",
    "    input_tensor = torch.tensor(scaled_input, dtype=torch.float32)\n",
    "\n",
    "    # Step 5: Make the prediction using the trained model\n",
    "    model.eval()\n",
    "    with torch.no_grad():\n",
    "        outputs = model(input_tensor)  # Forward pass\n",
    "        _, predicted = torch.max(outputs, 1)  # Get the predicted class\n",
    "\n",
    "    print(f\"Predicted class: {predicted.item()}\")\n",
    "\n",
    "\n",
    "# Assuming 'model' is your trained PyTorch model, you can now run inference\n",
    "run_inference(model)\n"
   ]
  },
  {
   "cell_type": "code",
   "execution_count": null,
   "metadata": {},
   "outputs": [
    {
     "name": "stdout",
     "output_type": "stream",
     "text": [
      "tensor([[ -2.1151, -11.2323,  -0.5915, -26.9591,   1.8975]],\n",
      "       grad_fn=<AddmmBackward0>)\n"
     ]
    },
    {
     "data": {
      "text/plain": [
       "tensor([4])"
      ]
     },
     "execution_count": 8,
     "metadata": {},
     "output_type": "execute_result"
    }
   ],
   "source": [
    "\n",
    "outputs= model(test_loader.dataset[0][0].unsqueeze(0))\n",
    "print(outputs)\n",
    "torch.argmax(outputs, axis=1)"
   ]
  },
  {
   "cell_type": "code",
   "execution_count": null,
   "metadata": {},
   "outputs": [
    {
     "name": "stdout",
     "output_type": "stream",
     "text": [
      "precision: 92.841%\n",
      "recall: 92.627%\n",
      "f1: 92.734%\n",
      "support: 868\n",
      "accuracy: 95.12098658900514\n"
     ]
    }
   ],
   "source": [
    "precision, recall, f1, support = precision_recall_fscore_support(y_true, y_pred)\n",
    "print(\"precision: {:.3f}%\".format(precision[1] * 100))\n",
    "print(\"recall: {:.3f}%\".format(recall[1] * 100))\n",
    "print(\"f1: {:.3f}%\".format(f1[1] * 100))\n",
    "print(\"support: {}\".format(support[1]))\n",
    "print(\"accuracy: {}\".format(epoch_accuracy)) # TODO check"
   ]
  },
  {
   "cell_type": "code",
   "execution_count": null,
   "metadata": {},
   "outputs": [
    {
     "data": {
      "text/plain": [
       "<sklearn.metrics._plot.confusion_matrix.ConfusionMatrixDisplay at 0x72af055304a0>"
      ]
     },
     "execution_count": 10,
     "metadata": {},
     "output_type": "execute_result"
    },
    {
     "data": {
      "image/png": "[encoded data removed]",
      "text/plain": [
       "<Figure size 640x480 with 2 Axes>"
      ]
     },
     "metadata": {},
     "output_type": "display_data"
    }
   ],
   "source": [
    "disp = ConfusionMatrixDisplay(confusion_matrix(y_true, y_pred), )\n",
    "disp.plot()"
   ]
  },
  {
   "cell_type": "markdown",
   "metadata": {},
   "source": [
    "## Model Provider flow"
   ]
  },
  {
   "cell_type": "markdown",
   "metadata": {},
   "source": [
    "# Authenticate with Nillion"
   ]
  },
  {
   "cell_type": "markdown",
   "metadata": {},
   "source": [
    "To connect to the Nillion network, we need to have a user key and a node key. These serve different purposes:\n",
    "\n",
    "The `user_key` is the user's private key. The user key should never be shared publicly, as it unlocks access and permissions to secrets stored on the network.\n",
    "\n",
    "The `node_key` is the node's private key which is run locally to connect to the network."
   ]
  },
  {
   "cell_type": "code",
   "execution_count": null,
   "metadata": {},
   "outputs": [
    {
     "name": "stdout",
     "output_type": "stream",
     "text": [
      "b13880d3-dde8-4a75-a171-8a1a9d985e6c\n",
      "b13880d3-dde8-4a75-a171-8a1a9d985e6c\n"
     ]
    }
   ],
   "source": [
    "# Load all Nillion network environment variables\n",
    "os.getcwd()\n",
    "assert os.getcwd().endswith(\n",
    "    \"nada_project\"\n",
    "), \"Please run this script from the examples/multi_layer_perceptron directory otherwise, the rest of the tutorial may not work\"\n",
    "load_dotenv()\n",
    "print(os.getenv(\"NILLION_CLUSTER_ID\"))\n",
    "dotenv_path = '/home/brglt/Desktop/nillion/ETH-Online-mental-health/nada_project/.env'\n",
    "load_dotenv(dotenv_path)\n",
    "print(os.getenv(\"NILLION_CLUSTER_ID\"))"
   ]
  },
  {
   "cell_type": "code",
   "execution_count": null,
   "metadata": {},
   "outputs": [
    {
     "name": "stdout",
     "output_type": "stream",
     "text": [
      "b13880d3-dde8-4a75-a171-8a1a9d985e6c\n"
     ]
    }
   ],
   "source": [
    "print(os.getenv(\"NILLION_CLUSTER_ID\"))"
   ]
  },
  {
   "cell_type": "code",
   "execution_count": null,
   "metadata": {},
   "outputs": [],
   "source": [
    "cluster_id = os.getenv(\"NILLION_CLUSTER_ID\")\n",
    "grpc_endpoint = os.getenv(\"NILLION_NILCHAIN_GRPC\")\n",
    "chain_id = os.getenv(\"NILLION_NILCHAIN_CHAIN_ID\")\n",
    "import random\n",
    "\n",
    "import random\n",
    "\n",
    "\n",
    "# seed = str(random.randint(1, 1000))\n",
    "seed = \"my_seed\"\n",
    "model_provider_userkey = UserKey.from_seed((seed))\n",
    "model_provider_nodekey = NodeKey.from_seed((seed))\n",
    "model_provider_client = create_nillion_client(model_provider_userkey, model_provider_nodekey)\n",
    "model_provider_party_id = model_provider_client.party_id\n",
    "model_provider_user_id = model_provider_client.user_id"
   ]
  },
  {
   "cell_type": "code",
   "execution_count": null,
   "metadata": {},
   "outputs": [],
   "source": [
    "!pynadac /home/brglt/Desktop/nillion/ETH-Online-mental-health/nada_project/src/mental_main.py"
   ]
  },
  {
   "cell_type": "code",
   "execution_count": null,
   "metadata": {},
   "outputs": [
    {
     "name": "stdout",
     "output_type": "stream",
     "text": [
      "CHROME_DESKTOP: code-url-handler.desktop\n",
      "DBUS_SESSION_BUS_ADDRESS: unix:path=/run/user/1000/bus\n",
      "DEBUGINFOD_URLS: https://debuginfod.ubuntu.com \n",
      "DESKTOP_SESSION: ubuntu\n",
      "DISPLAY: :1\n",
      "GDK_BACKEND: x11\n",
      "GDMSESSION: ubuntu\n",
      "GIO_LAUNCHED_DESKTOP_FILE: /usr/share/applications/code.desktop\n",
      "GIO_LAUNCHED_DESKTOP_FILE_PID: 4316\n",
      "GJS_DEBUG_OUTPUT: stderr\n",
      "GJS_DEBUG_TOPICS: JS ERROR;JS LOG\n",
      "GNOME_DESKTOP_SESSION_ID: this-is-deprecated\n",
      "GNOME_SHELL_SESSION_MODE: ubuntu\n",
      "GPG_AGENT_INFO: /run/user/1000/gnupg/S.gpg-agent:0:1\n",
      "GSM_SKIP_SSH_AGENT_WORKAROUND: true\n",
      "GTK_MODULES: gail:atk-bridge\n",
      "HOME: /home/brglt\n",
      "INVOCATION_ID: 7fcd8d11d1eb4905a8085357679f3077\n",
      "JOURNAL_STREAM: 8:4086\n",
      "LANG: en_US.UTF-8\n",
      "LESSCLOSE: /usr/bin/lesspipe %s %s\n",
      "LESSOPEN: | /usr/bin/lesspipe %s\n",
      "LOGNAME: brglt\n",
      "MANAGERPID: 2332\n",
      "MEMORY_PRESSURE_WATCH: /sys/fs/cgroup/user.slice/user-1000.slice/user@1000.service/session.slice/org.gnome.Shell@x11.service/memory.pressure\n",
      "MEMORY_PRESSURE_WRITE: c29tZSAyMDAwMDAgMjAwMDAwMAA=\n",
      "ORIGINAL_XDG_CURRENT_DESKTOP: ubuntu:GNOME\n",
      "PATH: /home/brglt/Desktop/nillion/ETH-Online-mental-health/venv/bin:/usr/local/sbin:/usr/local/bin:/usr/sbin:/usr/bin:/sbin:/bin:/usr/games:/usr/local/games:/snap/bin:/snap/bin:/home/brglt/.nilup/bin\n",
      "PWD: /home/brglt\n",
      "QT_ACCESSIBILITY: 1\n",
      "QT_IM_MODULE: ibus\n",
      "SESSION_MANAGER: local/Brglt-OMEN:@/tmp/.ICE-unix/2749,unix/Brglt-OMEN:/tmp/.ICE-unix/2749\n",
      "SHELL: /bin/bash\n",
      "SHLVL: 0\n",
      "SSH_AUTH_SOCK: /run/user/1000/keyring/ssh\n",
      "SYSTEMD_EXEC_PID: 2793\n",
      "USER: brglt\n",
      "USERNAME: brglt\n",
      "VSCODE_AMD_ENTRYPOINT: vs/workbench/api/node/extensionHostProcess\n",
      "VSCODE_CODE_CACHE_PATH: /home/brglt/.config/Code/CachedData/fee1edb8d6d72a0ddff41e5f71a671c23ed924b9\n",
      "VSCODE_CRASH_REPORTER_PROCESS_TYPE: extensionHost\n",
      "VSCODE_CWD: /home/brglt\n",
      "VSCODE_HANDLES_UNCAUGHT_ERRORS: true\n",
      "VSCODE_IPC_HOOK: /run/user/1000/vscode-ab7fecbf-1.92-main.sock\n",
      "VSCODE_NLS_CONFIG: {\"userLocale\":\"en-us\",\"osLocale\":\"en-us\",\"resolvedLanguage\":\"en\",\"defaultMessagesFile\":\"/usr/share/code/resources/app/out/nls.messages.json\",\"locale\":\"en\",\"availableLanguages\":{}}\n",
      "VSCODE_PID: 4316\n",
      "WINDOWPATH: 2\n",
      "XAUTHORITY: /run/user/1000/gdm/Xauthority\n",
      "XDG_CONFIG_DIRS: /etc/xdg/xdg-ubuntu:/etc/xdg\n",
      "XDG_CURRENT_DESKTOP: Unity\n",
      "XDG_DATA_DIRS: /usr/share/ubuntu:/usr/share/gnome:/usr/local/share/:/usr/share/:/var/lib/snapd/desktop\n",
      "XDG_MENU_PREFIX: gnome-\n",
      "XDG_RUNTIME_DIR: /run/user/1000\n",
      "XDG_SESSION_CLASS: user\n",
      "XDG_SESSION_DESKTOP: ubuntu\n",
      "XDG_SESSION_TYPE: x11\n",
      "XMODIFIERS: @im=ibus\n",
      "_: /home/brglt/Desktop/nillion/ETH-Online-mental-health/venv/bin/python\n",
      "ELECTRON_RUN_AS_NODE: 1\n",
      "APPLICATION_INSIGHTS_NO_DIAGNOSTIC_CHANNEL: 1\n",
      "VSCODE_L10N_BUNDLE_LOCATION: \n",
      "PYTHONUNBUFFERED: 1\n",
      "VIRTUAL_ENV: /home/brglt/Desktop/nillion/ETH-Online-mental-health/venv\n",
      "PYTHONIOENCODING: utf-8\n",
      "VIRTUAL_ENV_PROMPT: (venv) \n",
      "PS1: (venv) \n",
      "PYDEVD_IPYTHON_COMPATIBLE_DEBUGGING: 1\n",
      "PYTHON_FROZEN_MODULES: on\n",
      "PYDEVD_USE_FRAME_EVAL: NO\n",
      "TERM: xterm-color\n",
      "CLICOLOR: 1\n",
      "FORCE_COLOR: 1\n",
      "CLICOLOR_FORCE: 1\n",
      "PAGER: cat\n",
      "GIT_PAGER: cat\n",
      "MPLBACKEND: module://matplotlib_inline.backend_inline\n",
      "KMP_DUPLICATE_LIB_OK: True\n",
      "KMP_INIT_AT_FORK: FALSE\n",
      "REACT_APP_API_BASE_PATH: /nilchain-proxy\n",
      "NILLION_CLUSTER_ID: b13880d3-dde8-4a75-a171-8a1a9d985e6c\n",
      "NILLION_BOOTNODE_MULTIADDRESS: /dns/node-1.testnet-photon.nillion-network.nilogy.xyz/tcp/14111/p2p/12D3KooWCfFYAb77NCjEk711e9BVe2E6mrasPZTtAjJAPtVAdbye\n",
      "NILLION_BOOTNODE_WEBSOCKET: /dns/node-1.testnet-photon.nillion-network.nilogy.xyz/tcp/14211/wss/p2p/12D3KooWCfFYAb77NCjEk711e9BVe2E6mrasPZTtAjJAPtVAdbye\n",
      "NILLION_NILCHAIN_CHAIN_ID: nillion-chain-testnet-1\n",
      "NILLION_NILCHAIN_JSON_RPC: http://65.109.222.111:26657\n",
      "NILLION_NILCHAIN_REST_API: http://65.109.222.111:26657\n",
      "NILLION_NILCHAIN_GRPC: 65.109.228.73:9090\n",
      "NILLION_NILCHAIN_PRIVATE_KEY_0: ced2978a79df1781fabc55ec395297d2ab0337b1e1d5346f99a9a108bea4c0dc\n"
     ]
    }
   ],
   "source": [
    "env_vars = {key: os.getenv(key) for key in os.environ.keys()}\n",
    "\n",
    "# Print the environment variables\n",
    "for key, value in env_vars.items():\n",
    "    print(f'{key}: {value}')"
   ]
  },
  {
   "cell_type": "code",
   "execution_count": null,
   "metadata": {},
   "outputs": [
    {
     "data": {
      "text/plain": [
       "('b13880d3-dde8-4a75-a171-8a1a9d985e6c',\n",
       " '65.109.228.73:9090',\n",
       " 'nillion-chain-testnet-1',\n",
       " '12D3KooWSuA6pmQUamwdfvjGYatZ2soRRC5vjiNRnijYMZVeoXHY')"
      ]
     },
     "execution_count": 16,
     "metadata": {},
     "output_type": "execute_result"
    }
   ],
   "source": [
    "cluster_id, grpc_endpoint, chain_id, model_provider_party_id"
   ]
  },
  {
   "cell_type": "code",
   "execution_count": null,
   "metadata": {},
   "outputs": [],
   "source": [
    "party_names = [\"Provider\", \"User\"]\n",
    "program_name = \"mental_main\"\n",
    "program_mir_path = f\"{program_name}.nada.bin\""
   ]
  },
  {
   "cell_type": "code",
   "execution_count": null,
   "metadata": {},
   "outputs": [],
   "source": [
    "payments_config = create_payments_config(chain_id, grpc_endpoint)\n",
    "payments_client = LedgerClient(payments_config)\n",
    "payments_wallet = LocalWallet(\n",
    "    PrivateKey(bytes.fromhex(os.getenv(\"NILLION_NILCHAIN_PRIVATE_KEY_0\"))),\n",
    "    prefix=\"nillion\",\n",
    ")"
   ]
  },
  {
   "cell_type": "code",
   "execution_count": null,
   "metadata": {},
   "outputs": [
    {
     "name": "stdout",
     "output_type": "stream",
     "text": [
      "Getting quote for operation...\n",
      "Submitting payment receipt 2 unil, tx hash 76A665DE3FAC08607575ECBAB8DFC392B422AE9E07815BAEF4CCF1C59128FC98\n",
      "Stored program. action_id: 5vmj1733LCaZFMDhw8cTDPTVb1Bgj6NjCXz8EXvSEWvi4TncCsYiYoWdNbHS7sRNWExiZ79opSh8pkDwqTBTVE5r/mental_main\n",
      "Stored program_id: 5vmj1733LCaZFMDhw8cTDPTVb1Bgj6NjCXz8EXvSEWvi4TncCsYiYoWdNbHS7sRNWExiZ79opSh8pkDwqTBTVE5r/mental_main\n"
     ]
    }
   ],
   "source": [
    "program_id = await store_program(\n",
    "    model_provider_client,\n",
    "    payments_wallet,\n",
    "    payments_client,\n",
    "    model_provider_user_id,\n",
    "    cluster_id,\n",
    "    program_name,\n",
    "    program_mir_path,)"
   ]
  },
  {
   "cell_type": "code",
   "execution_count": null,
   "metadata": {},
   "outputs": [],
   "source": [
    "model_client = TorchClient(model)"
   ]
  },
  {
   "cell_type": "markdown",
   "metadata": {},
   "source": []
  },
  {
   "cell_type": "code",
   "execution_count": null,
   "metadata": {},
   "outputs": [
    {
     "name": "stdout",
     "output_type": "stream",
     "text": [
      "Getting quote for operation...\n",
      "Quote cost is 255458 unil\n",
      "Submitting payment receipt 255458 unil, tx hash 223D43CF9F9F42ADA779B8130687B632E4065B240C7698F4E1DD86D45D9FA49F\n"
     ]
    }
   ],
   "source": [
    "model_secrets = nillion.NadaValues(\n",
    "    model_client.export_state_as_secrets(\"my_nn\", na.SecretRational)\n",
    ")\n",
    "permissions = nillion.Permissions.default_for_user(model_provider_client.user_id)\n",
    "permissions.add_compute_permissions({model_provider_client.user_id: {program_id}})\n",
    "\n",
    "model_store_id = await store_secrets(\n",
    "    model_provider_client,\n",
    "    payments_wallet,\n",
    "    payments_client,\n",
    "    cluster_id,\n",
    "    model_secrets,\n",
    "    1,\n",
    "    permissions,\n",
    ")"
   ]
  },
  {
   "cell_type": "code",
   "execution_count": null,
   "metadata": {},
   "outputs": [],
   "source": [
    "# This information is needed by the model user\n",
    "with open(\"src/data/tmp.json\", \"w\") as provider_variables_file:\n",
    "    provider_variables = {\n",
    "        \"program_id\": program_id,\n",
    "        \"model_store_id\": model_store_id,\n",
    "        \"model_provider_party_id\": model_provider_party_id,\n",
    "    }\n",
    "    json.dump(provider_variables, provider_variables_file)"
   ]
  },
  {
   "cell_type": "code",
   "execution_count": null,
   "metadata": {},
   "outputs": [],
   "source": [
    "torch.save(model.state_dict(), \"src/data/my_model.pt\")"
   ]
  },
  {
   "cell_type": "code",
   "execution_count": null,
   "metadata": {},
   "outputs": [],
   "source": []
  }
 ],
 "metadata": {
  "kernelspec": {
   "display_name": "venv",
   "language": "python",
   "name": "python3"
  },
  "language_info": {
   "codemirror_mode": {
    "name": "ipython",
    "version": 3
   },
   "file_extension": ".py",
   "mimetype": "text/x-python",
   "name": "python",
   "nbconvert_exporter": "python",
   "pygments_lexer": "ipython3",
   "version": "3.12.3"
  }
 },
 "nbformat": 4,
 "nbformat_minor": 2
}
